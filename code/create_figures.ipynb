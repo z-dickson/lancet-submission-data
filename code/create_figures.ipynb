{
 "cells": [
  {
   "cell_type": "markdown",
   "id": "eadc37e9",
   "metadata": {},
   "source": [
    "# Description\n",
    "\n",
    "This notebook provides the code to re-produce figures and tables for *The Lancet Countdown on Health and Climate Change* **Indicator 5.3.3: Political party engagement with health and climate change**\n",
    "\n",
    "**Authors:** Zach Dickson & Cornelius Erfort "
   ]
  },
  {
   "cell_type": "code",
   "execution_count": 8,
   "id": "2fdf2063",
   "metadata": {},
   "outputs": [],
   "source": [
    "!pip install -q plotly pandas numpy nbformat kaleido scikit-learn matplotlib seaborn"
   ]
  },
  {
   "cell_type": "markdown",
   "id": "8260596f",
   "metadata": {},
   "source": [
    "## Primary Figure: Indicator 5.3.3: Political party engagement with health and climate change"
   ]
  },
  {
   "cell_type": "code",
   "execution_count": 1,
   "id": "d949ef28",
   "metadata": {},
   "outputs": [
    {
     "data": {
      "application/vnd.plotly.v1+json": {
       "config": {
        "plotlyServerURL": "https://plot.ly"
       },
       "data": [
        {
         "line": {
          "color": "#1f77b4",
          "width": 5
         },
         "mode": "lines+markers",
         "name": "Christian Democracy",
         "showlegend": true,
         "type": "scatter",
         "x": [
          2010,
          2011,
          2012,
          2013,
          2014,
          2015,
          2016,
          2017,
          2018,
          2019,
          2020,
          2021,
          2022,
          2023,
          2024,
          2025
         ],
         "xaxis": "x",
         "y": [
          0.0516956162117452,
          0.05460237740249439,
          0.05675628717188622,
          0.0510131817719305,
          0.04234141604738213,
          0.03603148084535274,
          0.03453292260987616,
          0.03849787014635108,
          0.04630531423723306,
          0.05460675993642656,
          0.05299796613955171,
          0.04970002495345825,
          0.05583556379209753,
          0.060111477442414483,
          0.08579169646634319,
          0.12159113369047389
         ],
         "yaxis": "y"
        },
        {
         "line": {
          "color": "#9D755D",
          "width": 5
         },
         "mode": "lines+markers",
         "name": "Conservative",
         "showlegend": true,
         "type": "scatter",
         "x": [
          2010,
          2011,
          2012,
          2013,
          2014,
          2015,
          2016,
          2017,
          2018,
          2019,
          2020,
          2021,
          2022,
          2023,
          2024,
          2025
         ],
         "xaxis": "x",
         "y": [
          0.020476858345021,
          0.01963735952103965,
          0.01817864611080305,
          0.0204289561554821,
          0.0288125356001901,
          0.03591298220466362,
          0.033536368030056794,
          0.028868817963743673,
          0.0319557446993095,
          0.03845484154326753,
          0.04077512947174518,
          0.040225173605215325,
          0.03860868054719055,
          0.03496659768115967,
          0.0364607266497436,
          0.04194326228121242
         ],
         "yaxis": "y"
        },
        {
         "line": {
          "color": "#EECA3B",
          "width": 5
         },
         "mode": "lines+markers",
         "name": "Liberal",
         "showlegend": true,
         "type": "scatter",
         "x": [
          2010,
          2011,
          2012,
          2013,
          2014,
          2015,
          2016,
          2017,
          2018,
          2019,
          2020,
          2021,
          2022,
          2023,
          2024,
          2025
         ],
         "xaxis": "x",
         "y": [
          0.0562378797672915,
          0.05618837246556825,
          0.0555621762486628,
          0.04837970587804995,
          0.036980392291413075,
          0.03184028742171643,
          0.02853490588559105,
          0.024538846139294926,
          0.025301609134916178,
          0.03954757513905366,
          0.05634648122857566,
          0.057543359383384285,
          0.05586186968256415,
          0.0644848510156958,
          0.07270773725189844,
          0.061961897359740524
         ],
         "yaxis": "y"
        },
        {
         "line": {
          "color": "#54A24B",
          "width": 5
         },
         "mode": "lines+markers",
         "name": "Green",
         "showlegend": true,
         "type": "scatter",
         "x": [
          2010,
          2011,
          2012,
          2013,
          2014,
          2015,
          2016,
          2017,
          2018,
          2019,
          2020,
          2021,
          2022,
          2023,
          2024,
          2025
         ],
         "xaxis": "x",
         "y": [
          0.125,
          0.12648582506992118,
          0.12985331248498783,
          0.13111459854232757,
          0.13568591320278955,
          0.15263199848341014,
          0.16501999836620782,
          0.17721189535875922,
          0.20693451633144164,
          0.247689898664359,
          0.2684157277822937,
          0.27539719582166666,
          0.3051800732279978,
          0.309692368778129,
          0.28365231522965245,
          0.24946572249634724
         ],
         "yaxis": "y"
        },
        {
         "line": {
          "color": "#222A2A",
          "width": 5
         },
         "mode": "lines+markers",
         "name": "Radical Right-Wing",
         "showlegend": true,
         "type": "scatter",
         "x": [
          2010,
          2011,
          2012,
          2013,
          2014,
          2015,
          2016,
          2017,
          2018,
          2019,
          2020,
          2021,
          2022,
          2023,
          2024,
          2025
         ],
         "xaxis": "x",
         "y": [
          0.0370907918077729,
          0.037343754820059825,
          0.037062957933500854,
          0.0368739561836056,
          0.0345800673025169,
          0.028701557752498077,
          0.02399460884266525,
          0.0226666989112718,
          0.02781737948919555,
          0.03825057103453762,
          0.041834699413267146,
          0.037558336444240274,
          0.03992375598246076,
          0.04524448469992928,
          0.042741577814823226,
          0.036979386057008054
         ],
         "yaxis": "y"
        },
        {
         "line": {
          "color": "#E45756",
          "width": 5
         },
         "mode": "lines+markers",
         "name": "Social Democracy",
         "showlegend": true,
         "type": "scatter",
         "x": [
          2010,
          2011,
          2012,
          2013,
          2014,
          2015,
          2016,
          2017,
          2018,
          2019,
          2020,
          2021,
          2022,
          2023,
          2024,
          2025
         ],
         "xaxis": "x",
         "y": [
          0.0628482570947259,
          0.06236144309913118,
          0.05694522248751263,
          0.047319541334641925,
          0.04255815246637637,
          0.0418536389014232,
          0.037909198252088355,
          0.033562316954097025,
          0.034620431370108895,
          0.04369514400524467,
          0.051914122691399625,
          0.049361334930906976,
          0.0459465638156736,
          0.04791079507479425,
          0.0501440293332745,
          0.04731019875588276
         ],
         "yaxis": "y"
        },
        {
         "line": {
          "color": "#1f77b4",
          "width": 5
         },
         "mode": "lines+markers",
         "name": "Christian Democracy",
         "showlegend": false,
         "type": "scatter",
         "x": [
          2010,
          2011,
          2012,
          2013,
          2014,
          2015,
          2016,
          2017,
          2018,
          2019,
          2020,
          2021,
          2022,
          2023,
          2024,
          2025
         ],
         "xaxis": "x2",
         "y": [
          0.0417700578990901,
          0.045112673271347103,
          0.0519382127653228,
          0.05694669099173302,
          0.06376712706499715,
          0.06932870401852326,
          0.06334036492942084,
          0.05975963299457894,
          0.06701250829190782,
          0.06514367365295239,
          0.07118673114955104,
          0.10003144521446132,
          0.1034999387137814,
          0.07726478820180495,
          0.05964614580322927,
          0.05341573757346244
         ],
         "yaxis": "y2"
        },
        {
         "line": {
          "color": "#9D755D",
          "width": 5
         },
         "mode": "lines+markers",
         "name": "Conservative",
         "showlegend": false,
         "type": "scatter",
         "x": [
          2010,
          2011,
          2012,
          2013,
          2014,
          2015,
          2016,
          2017,
          2018,
          2019,
          2020,
          2021,
          2022,
          2023,
          2024,
          2025
         ],
         "xaxis": "x2",
         "y": [
          0.026367461430575,
          0.0292232704915359,
          0.0405586427662816,
          0.053665598585590425,
          0.05727637639340337,
          0.0535640049163912,
          0.0522161042594706,
          0.060097307227919144,
          0.071839378541854,
          0.07452532249981013,
          0.09308558311420526,
          0.12797049274333866,
          0.11354951335780553,
          0.06513655654284338,
          0.04315850342027218,
          0.043732558824727624
         ],
         "yaxis": "y2"
        },
        {
         "line": {
          "color": "#EECA3B",
          "width": 5
         },
         "mode": "lines+markers",
         "name": "Liberal",
         "showlegend": false,
         "type": "scatter",
         "x": [
          2010,
          2011,
          2012,
          2013,
          2014,
          2015,
          2016,
          2017,
          2018,
          2019,
          2020,
          2021,
          2022,
          2023,
          2024,
          2025
         ],
         "xaxis": "x2",
         "y": [
          0.0465416936005171,
          0.049850230349827426,
          0.05809254447873555,
          0.058390143358138795,
          0.04668402770119212,
          0.04003616889060462,
          0.03928722322259624,
          0.03899259541956768,
          0.04449756265313937,
          0.048656048881473776,
          0.06960882460712327,
          0.11726457092633026,
          0.12175650320737569,
          0.07564885654322451,
          0.05674520701738628,
          0.06409950359236277
         ],
         "yaxis": "y2"
        },
        {
         "line": {
          "color": "#54A24B",
          "width": 5
         },
         "mode": "lines+markers",
         "name": "Green",
         "showlegend": false,
         "type": "scatter",
         "x": [
          2010,
          2011,
          2012,
          2013,
          2014,
          2015,
          2016,
          2017,
          2018,
          2019,
          2020,
          2021,
          2022,
          2023,
          2024,
          2025
         ],
         "xaxis": "x2",
         "y": [
          0.0610119047619047,
          0.05987029394137512,
          0.05672837186842755,
          0.05421362550965987,
          0.054293830854473576,
          0.05443796753826315,
          0.05553444050545037,
          0.057792024382931996,
          0.0573257625877771,
          0.05160337242590775,
          0.05575148922934482,
          0.07580769406290758,
          0.07953491755496009,
          0.07332494253281124,
          0.07849634205671777,
          0.0784915496278927
         ],
         "yaxis": "y2"
        },
        {
         "line": {
          "color": "#222A2A",
          "width": 5
         },
         "mode": "lines+markers",
         "name": "Radical Right-Wing",
         "showlegend": false,
         "type": "scatter",
         "x": [
          2010,
          2011,
          2012,
          2013,
          2014,
          2015,
          2016,
          2017,
          2018,
          2019,
          2020,
          2021,
          2022,
          2023,
          2024,
          2025
         ],
         "xaxis": "x2",
         "y": [
          0.0756329624254152,
          0.07392923192792608,
          0.06775310153204775,
          0.057161431451904623,
          0.0492546303898109,
          0.045720671685460824,
          0.0404958182037099,
          0.03824128449510612,
          0.03784332521122982,
          0.03456204795107035,
          0.05343293441918565,
          0.0920283323527244,
          0.09659185432951885,
          0.06400082258880394,
          0.04236258695524338,
          0.03632529069876603
         ],
         "yaxis": "y2"
        },
        {
         "line": {
          "color": "#E45756",
          "width": 5
         },
         "mode": "lines+markers",
         "name": "Social Democracy",
         "showlegend": false,
         "type": "scatter",
         "x": [
          2010,
          2011,
          2012,
          2013,
          2014,
          2015,
          2016,
          2017,
          2018,
          2019,
          2020,
          2021,
          2022,
          2023,
          2024,
          2025
         ],
         "xaxis": "x2",
         "y": [
          0.0673836983283659,
          0.06604111078743125,
          0.06463187794368438,
          0.06472901150268032,
          0.0659000723500313,
          0.06974527422923579,
          0.07244908586128485,
          0.07156420400175226,
          0.07323201671553128,
          0.07706193892341284,
          0.09631415179392627,
          0.1308190995237673,
          0.12333346240072499,
          0.0774710980204124,
          0.0587827307925864,
          0.06369754067456676
         ],
         "yaxis": "y2"
        },
        {
         "line": {
          "color": "#1f77b4",
          "width": 5
         },
         "mode": "lines+markers",
         "name": "Christian Democracy",
         "showlegend": false,
         "type": "scatter",
         "x": [
          2010,
          2011,
          2012,
          2013,
          2014,
          2015,
          2016,
          2017,
          2018,
          2019,
          2020,
          2021,
          2022,
          2023,
          2024,
          2025
         ],
         "xaxis": "x3",
         "y": [
          0.0041356492969396,
          0.005680890298923125,
          0.008056254064391024,
          0.007648305307647124,
          0.006515772185165475,
          0.00621148512639705,
          0.005191350090731425,
          0.00521078320149095,
          0.006758589920308374,
          0.007500513786116424,
          0.012055054841112574,
          0.022254274083994774,
          0.02325248366909005,
          0.013245125155881773,
          0.007463992350389798,
          0.008044850413984998
         ],
         "yaxis": "y3"
        },
        {
         "line": {
          "color": "#9D755D",
          "width": 5
         },
         "mode": "lines+markers",
         "name": "Conservative",
         "showlegend": false,
         "type": "scatter",
         "x": [
          2010,
          2011,
          2012,
          2013,
          2014,
          2015,
          2016,
          2017,
          2018,
          2019,
          2020,
          2021,
          2022,
          2023,
          2024,
          2025
         ],
         "xaxis": "x3",
         "y": [
          0.0030855539971949,
          0.0027986616219271747,
          0.00216895217593215,
          0.00253317904670855,
          0.0040414477648411,
          0.0041875309433682005,
          0.0028526884899268004,
          0.0023027623721875003,
          0.0026930022045775254,
          0.003381685339203925,
          0.015870052697802527,
          0.03229582796859892,
          0.02472967296192407,
          0.007951622760483626,
          0.0032149567681725747,
          0.003102661594199675
         ],
         "yaxis": "y3"
        },
        {
         "line": {
          "color": "#EECA3B",
          "width": 5
         },
         "mode": "lines+markers",
         "name": "Liberal",
         "showlegend": false,
         "type": "scatter",
         "x": [
          2010,
          2011,
          2012,
          2013,
          2014,
          2015,
          2016,
          2017,
          2018,
          2019,
          2020,
          2021,
          2022,
          2023,
          2024,
          2025
         ],
         "xaxis": "x3",
         "y": [
          0.0038784744667097,
          0.0041541858624855755,
          0.00411005122118115,
          0.00298041524133395,
          0.0024045051490141,
          0.0027766342343421,
          0.0031009131907681,
          0.0036441367259185745,
          0.004039068100005624,
          0.004132571907975575,
          0.012124266724409475,
          0.02713146365533295,
          0.0269061983684358,
          0.013324696637311801,
          0.007005242690044751,
          0.006261536966870625
         ],
         "yaxis": "y3"
        },
        {
         "line": {
          "color": "#54A24B",
          "width": 5
         },
         "mode": "lines+markers",
         "name": "Green",
         "showlegend": false,
         "type": "scatter",
         "x": [
          2010,
          2011,
          2012,
          2013,
          2014,
          2015,
          2016,
          2017,
          2018,
          2019,
          2020,
          2021,
          2022,
          2023,
          2024,
          2025
         ],
         "xaxis": "x3",
         "y": [
          0.0086805555555555,
          0.008735181477243776,
          0.00856435303899735,
          0.00836638612073775,
          0.007871344722081425,
          0.006839736203582575,
          0.008757071367738024,
          0.013740772351572398,
          0.015217479909798048,
          0.012517029518365074,
          0.016619731800293996,
          0.0278271116166943,
          0.030037446685312524,
          0.024813053007092703,
          0.020364425910896926,
          0.011650252221955305
         ],
         "yaxis": "y3"
        },
        {
         "line": {
          "color": "#222A2A",
          "width": 5
         },
         "mode": "lines+markers",
         "name": "Radical Right-Wing",
         "showlegend": false,
         "type": "scatter",
         "x": [
          2010,
          2011,
          2012,
          2013,
          2014,
          2015,
          2016,
          2017,
          2018,
          2019,
          2020,
          2021,
          2022,
          2023,
          2024,
          2025
         ],
         "xaxis": "x3",
         "y": [
          0.0059667795516852,
          0.006516297727527501,
          0.008450227210138751,
          0.009058863800987776,
          0.006358404426083875,
          0.004382326992659275,
          0.004248238551238225,
          0.004535902918690351,
          0.0052574211954065,
          0.005086496776030125,
          0.008241119511647224,
          0.015612875892339525,
          0.01667155749325438,
          0.009986029478613576,
          0.004488668585080001,
          0.003461202355890202
         ],
         "yaxis": "y3"
        },
        {
         "line": {
          "color": "#E45756",
          "width": 5
         },
         "mode": "lines+markers",
         "name": "Social Democracy",
         "showlegend": false,
         "type": "scatter",
         "x": [
          2010,
          2011,
          2012,
          2013,
          2014,
          2015,
          2016,
          2017,
          2018,
          2019,
          2020,
          2021,
          2022,
          2023,
          2024,
          2025
         ],
         "xaxis": "x3",
         "y": [
          0.0077750421148114,
          0.008612149216809325,
          0.0094199102045188,
          0.008378564384057874,
          0.006921695211276798,
          0.0063157724057484235,
          0.006289942573860074,
          0.006198891765712124,
          0.00565726121835025,
          0.005334242715372224,
          0.010674681887391273,
          0.020751391196138048,
          0.019952340913591826,
          0.009191397235238725,
          0.0038231526056288247,
          0.0037606127558898247
         ],
         "yaxis": "y3"
        },
        {
         "line": {
          "color": "#1f77b4",
          "width": 5
         },
         "mode": "lines+markers",
         "name": "Christian Democracy",
         "showlegend": false,
         "type": "scatter",
         "x": [
          2010,
          2011,
          2012,
          2013,
          2014,
          2015,
          2016,
          2017,
          2018,
          2019,
          2020,
          2021,
          2022,
          2023,
          2024,
          2025
         ],
         "xaxis": "x4",
         "y": [
          10,
          14.75,
          21.25,
          18.75,
          17.5,
          20.25,
          16,
          12.5,
          16.5,
          22,
          41.75,
          77.25,
          78.75,
          42.5,
          20.75,
          17
         ],
         "yaxis": "y4"
        },
        {
         "line": {
          "color": "#9D755D",
          "width": 5
         },
         "mode": "lines+markers",
         "name": "Conservative",
         "showlegend": false,
         "type": "scatter",
         "x": [
          2010,
          2011,
          2012,
          2013,
          2014,
          2015,
          2016,
          2017,
          2018,
          2019,
          2020,
          2021,
          2022,
          2023,
          2024,
          2025
         ],
         "xaxis": "x4",
         "y": [
          11,
          9.75,
          7.25,
          8.5,
          13,
          14.5,
          14.25,
          15.5,
          16.25,
          15.5,
          88.75,
          190.25,
          146.5,
          44.75,
          12.25,
          8.75
         ],
         "yaxis": "y4"
        },
        {
         "line": {
          "color": "#EECA3B",
          "width": 5
         },
         "mode": "lines+markers",
         "name": "Liberal",
         "showlegend": false,
         "type": "scatter",
         "x": [
          2010,
          2011,
          2012,
          2013,
          2014,
          2015,
          2016,
          2017,
          2018,
          2019,
          2020,
          2021,
          2022,
          2023,
          2024,
          2025
         ],
         "xaxis": "x4",
         "y": [
          6,
          6.5,
          6.5,
          4.75,
          5.5,
          9.25,
          11.5,
          13.25,
          16,
          17.25,
          42.25,
          84,
          74.5,
          30,
          9,
          5.25
         ],
         "yaxis": "y4"
        },
        {
         "line": {
          "color": "#54A24B",
          "width": 5
         },
         "mode": "lines+markers",
         "name": "Green",
         "showlegend": false,
         "type": "scatter",
         "x": [
          2010,
          2011,
          2012,
          2013,
          2014,
          2015,
          2016,
          2017,
          2018,
          2019,
          2020,
          2021,
          2022,
          2023,
          2024,
          2025
         ],
         "xaxis": "x4",
         "y": [
          35,
          35,
          33,
          29,
          25,
          22.25,
          29,
          41.75,
          40.25,
          27,
          30.75,
          48,
          46.25,
          28,
          13.5,
          6.25
         ],
         "yaxis": "y4"
        },
        {
         "line": {
          "color": "#222A2A",
          "width": 5
         },
         "mode": "lines+markers",
         "name": "Radical Right-Wing",
         "showlegend": false,
         "type": "scatter",
         "x": [
          2010,
          2011,
          2012,
          2013,
          2014,
          2015,
          2016,
          2017,
          2018,
          2019,
          2020,
          2021,
          2022,
          2023,
          2024,
          2025
         ],
         "xaxis": "x4",
         "y": [
          37,
          38.25,
          43.25,
          42.75,
          29.75,
          21.25,
          21.75,
          23.75,
          29,
          29.5,
          54.25,
          116.75,
          133,
          76.5,
          25.25,
          12.25
         ],
         "yaxis": "y4"
        },
        {
         "line": {
          "color": "#E45756",
          "width": 5
         },
         "mode": "lines+markers",
         "name": "Social Democracy",
         "showlegend": false,
         "type": "scatter",
         "x": [
          2010,
          2011,
          2012,
          2013,
          2014,
          2015,
          2016,
          2017,
          2018,
          2019,
          2020,
          2021,
          2022,
          2023,
          2024,
          2025
         ],
         "xaxis": "x4",
         "y": [
          60,
          65,
          72,
          69.75,
          63,
          58,
          51.5,
          46,
          47.25,
          53.25,
          128.25,
          253,
          234.75,
          102.75,
          36.25,
          25.25
         ],
         "yaxis": "y4"
        }
       ],
       "layout": {
        "annotations": [
         {
          "font": {
           "size": 16
          },
          "showarrow": false,
          "text": "Climate Change",
          "x": 0.2375,
          "xanchor": "center",
          "xref": "paper",
          "y": 1,
          "yanchor": "bottom",
          "yref": "paper"
         },
         {
          "font": {
           "size": 16
          },
          "showarrow": false,
          "text": "Public Health",
          "x": 0.7625,
          "xanchor": "center",
          "xref": "paper",
          "y": 1,
          "yanchor": "bottom",
          "yref": "paper"
         },
         {
          "font": {
           "size": 16
          },
          "showarrow": false,
          "text": "Climate & Health Nexus (mean)",
          "x": 0.2375,
          "xanchor": "center",
          "xref": "paper",
          "y": 0.425,
          "yanchor": "bottom",
          "yref": "paper"
         },
         {
          "font": {
           "size": 16
          },
          "showarrow": false,
          "text": "Climate & Health Nexus (sum)",
          "x": 0.7625,
          "xanchor": "center",
          "xref": "paper",
          "y": 0.425,
          "yanchor": "bottom",
          "yref": "paper"
         }
        ],
        "font": {
         "size": 14
        },
        "height": 700,
        "hovermode": "x unified",
        "legend": {
         "title": {
          "text": "Party Family"
         }
        },
        "margin": {
         "b": 60,
         "l": 70,
         "r": 50,
         "t": 100
        },
        "template": {
         "data": {
          "pie": [
           {
            "automargin": true,
            "type": "pie"
           }
          ],
          "scatter": [
           {
            "line": {
             "width": 3
            },
            "marker": {
             "size": 9
            },
            "type": "scatter"
           }
          ],
          "scatter3d": [
           {
            "line": {
             "width": 3
            },
            "marker": {
             "size": 9
            },
            "type": "scatter3d"
           }
          ],
          "scattergeo": [
           {
            "line": {
             "width": 3
            },
            "marker": {
             "size": 9
            },
            "type": "scattergeo"
           }
          ],
          "scattergl": [
           {
            "line": {
             "width": 3
            },
            "marker": {
             "size": 9
            },
            "type": "scattergl"
           }
          ],
          "scatterpolar": [
           {
            "line": {
             "width": 3
            },
            "marker": {
             "size": 9
            },
            "type": "scatterpolar"
           }
          ],
          "scatterpolargl": [
           {
            "line": {
             "width": 3
            },
            "marker": {
             "size": 9
            },
            "type": "scatterpolargl"
           }
          ],
          "scatterternary": [
           {
            "line": {
             "width": 3
            },
            "marker": {
             "size": 9
            },
            "type": "scatterternary"
           }
          ],
          "table": [
           {
            "cells": {
             "height": 30
            },
            "header": {
             "height": 36
            },
            "type": "table"
           }
          ]
         },
         "layout": {
          "font": {
           "size": 18
          },
          "xaxis": {
           "title": {
            "standoff": 15
           }
          },
          "yaxis": {
           "title": {
            "standoff": 15
           }
          }
         }
        },
        "title": {
         "text": "Party Press Releases on Climate Change and Health by Party Family",
         "x": 0.05
        },
        "width": 1000,
        "xaxis": {
         "anchor": "y",
         "domain": [
          0,
          0.475
         ],
         "title": {
          "text": "Year"
         }
        },
        "xaxis2": {
         "anchor": "y2",
         "domain": [
          0.525,
          1
         ],
         "title": {
          "text": "Year"
         }
        },
        "xaxis3": {
         "anchor": "y3",
         "domain": [
          0,
          0.475
         ],
         "title": {
          "text": "Year"
         }
        },
        "xaxis4": {
         "anchor": "y4",
         "domain": [
          0.525,
          1
         ],
         "title": {
          "text": "Year"
         }
        },
        "yaxis": {
         "anchor": "x",
         "domain": [
          0.575,
          1
         ],
         "tickformat": ".0%",
         "title": {
          "text": "Press Releases"
         }
        },
        "yaxis2": {
         "anchor": "x2",
         "domain": [
          0.575,
          1
         ],
         "tickformat": ".0%"
        },
        "yaxis3": {
         "anchor": "x3",
         "domain": [
          0,
          0.425
         ],
         "tickformat": ".0%",
         "title": {
          "text": "Press Releases"
         }
        },
        "yaxis4": {
         "anchor": "x4",
         "domain": [
          0,
          0.425
         ]
        }
       }
      }
     },
     "metadata": {},
     "output_type": "display_data"
    }
   ],
   "source": [
    "# import libraries\n",
    "import pandas as pd\n",
    "import numpy as np\n",
    "from plotly.subplots import make_subplots\n",
    "import plotly.graph_objects as go\n",
    "import plotly.express as px\n",
    "\n",
    "\n",
    "# read in data \n",
    "df = pd.read_csv('../data/indicator_5_3_3.csv')\n",
    "# drop values after 2025 \n",
    "df = df[df['year'] <= 2025]\n",
    "\n",
    "# dictionary to map party names to respective party colors\n",
    "party_colors = {'Christian Democracy': '#1f77b4',\n",
    "                'Conservative': '#9D755D',\n",
    "                'Liberal': '#EECA3B',\n",
    "                'Green': '#54A24B',\n",
    "                'Radical Right-Wing': '#222A2A',\n",
    "                'Social Democracy': '#E45756',}\n",
    "\n",
    "\n",
    "# Define the mapping of data column -> subplot position\n",
    "col_to_position = {\n",
    "    'environment_climate_issue1_mean': (1, 1),  # Climate Change\n",
    "    'healthcare_issue1_mean': (1, 2),           # Public Health\n",
    "    'climate_health_mean': (2, 1),              # Climate and Health Nexus (mean)\n",
    "    'climate_health_sum': (2, 2)                # Climate and Health Nexus (sum)\n",
    "}\n",
    "\n",
    "\n",
    "def create_nexus_subplot(df, \n",
    "                         title = 'Party Press Releases on Climate Change and Health by Party Family',\n",
    "                         save_path=None,\n",
    "                         col_to_position = col_to_position,\n",
    "                         party_colors = party_colors):\n",
    "\n",
    "    # Titles should match the order of the subplot grid\n",
    "    fig = make_subplots(\n",
    "        rows=2, cols=2,\n",
    "        subplot_titles=(\n",
    "            'Climate Change',\n",
    "            'Public Health',\n",
    "            'Climate & Health Nexus (mean)', \n",
    "            'Climate & Health Nexus (sum)'\n",
    "        ),\n",
    "        horizontal_spacing=0.05,  # reduce horizontal gap between columns\n",
    "        vertical_spacing=0.15      # reduce vertical gap between rows\n",
    "    )\n",
    "\n",
    "    # Loop through the variables and plot each one in its correct subplot\n",
    "    for i, col in enumerate(col_to_position.keys()):\n",
    "        row, col_num = col_to_position[col]\n",
    "        for party_family in party_colors.keys():\n",
    "            subset = df[df['party_family'] == party_family].copy()\n",
    "\n",
    "            # smooth the line\n",
    "            subset[col] = subset[col].rolling(window=2, min_periods=1).mean()\n",
    "            subset[col] = subset[col].rolling(window=2, min_periods=1).mean()\n",
    "\n",
    "            fig.add_trace(go.Scatter(\n",
    "                x=subset['year'],\n",
    "                y=subset[col],\n",
    "                mode='lines+markers',\n",
    "                name=party_family,\n",
    "                line=dict(color=party_colors[party_family], width=5),\n",
    "                showlegend=True if i == 0 else False,\n",
    "            ), row=row, col=col_num)\n",
    "\n",
    "    # Update layout\n",
    "    fig.update_layout(\n",
    "        title=title,\n",
    "        xaxis_title='Year',\n",
    "        yaxis_title='Press Releases',\n",
    "        title_x=0.05,\n",
    "        legend_title='Party Family',\n",
    "        hovermode='x unified',\n",
    "        width=1000,\n",
    "        height=700,\n",
    "        template='presentation',\n",
    "        font=dict(size=14),\n",
    "        margin=dict(l=70, r=50, t=100, b=60)\n",
    "    )\n",
    "\n",
    "    # Format all y-axes as percentages\n",
    "    fig.update_yaxes(tickformat=\".0%\", row=1, col=1)\n",
    "    fig.update_yaxes(tickformat=\".0%\", row=1, col=2)\n",
    "    fig.update_yaxes(tickformat=\".0%\", row=2, col=1)\n",
    "\n",
    "    # Custom x-axis titles per subplot \n",
    "    fig.update_xaxes(title_text=\"Year\", row=2, col=1)\n",
    "    fig.update_xaxes(title_text=\"Year\", row=2, col=2)\n",
    "    fig.update_xaxes(title_text=\"Year\", row=1, col=2)\n",
    "\n",
    "    # add y-axis titles\n",
    "    fig.update_yaxes(title_text=\"Press Releases\", row=1, col=1)\n",
    "    #fig.update_yaxes(title_text=\"Press Releases\", row=1, col=2)\n",
    "    fig.update_yaxes(title_text=\"Press Releases\", row=2, col=1)\n",
    "    #fig.update_yaxes(title_text=\"Press Releases\", row=2, col=2)\n",
    "\n",
    "\n",
    "    # save figure if save_path is provided\n",
    "    if save_path:\n",
    "        fig.write_image(save_path, scale=2)\n",
    "    # show figure\n",
    "    fig.show()\n",
    "\n",
    "\n",
    "create_nexus_subplot(df, \n",
    "                     #title='',\n",
    "                     save_path='../appendix/indicator_5_3_3.png',\n",
    "                     col_to_position=col_to_position,\n",
    "                     party_colors=party_colors)\n"
   ]
  },
  {
   "cell_type": "markdown",
   "id": "17218282",
   "metadata": {},
   "source": [
    "# Create table for appendix"
   ]
  },
  {
   "cell_type": "code",
   "execution_count": 2,
   "id": "e502d5ee",
   "metadata": {},
   "outputs": [
    {
     "name": "stdout",
     "output_type": "stream",
     "text": [
      "              precision    recall  f1-score   support\n",
      "\n",
      "           0       0.96      0.94      0.95       308\n",
      "           1       0.93      0.91      0.92        69\n",
      "           2       0.97      0.97      0.97       195\n",
      "           3       0.96      0.97      0.97        79\n",
      "           4       0.90      0.95      0.93       132\n",
      "           5       0.97      0.95      0.96       157\n",
      "           6       0.97      0.94      0.95       168\n",
      "           7       0.84      0.97      0.90        33\n",
      "           8       0.95      0.94      0.95        88\n",
      "           9       0.94      0.97      0.96        69\n",
      "          10       0.95      0.95      0.95        79\n",
      "          11       0.90      0.87      0.88        53\n",
      "          12       0.94      0.96      0.95        48\n",
      "          13       0.93      0.81      0.87        16\n",
      "          14       0.84      0.97      0.90        80\n",
      "          15       0.71      1.00      0.83         5\n",
      "          16       0.92      0.69      0.79        16\n",
      "          17       0.92      0.94      0.93       200\n",
      "          18       0.85      0.72      0.78        72\n",
      "          20       0.94      0.94      0.94        16\n",
      "\n",
      "    accuracy                           0.94      1883\n",
      "   macro avg       0.92      0.92      0.91      1883\n",
      "weighted avg       0.94      0.94      0.94      1883\n",
      "\n"
     ]
    },
    {
     "data": {
      "application/vnd.plotly.v1+json": {
       "config": {
        "plotlyServerURL": "https://plot.ly"
       },
       "data": [
        {
         "coloraxis": "coloraxis",
         "hovertemplate": "Predicted Label: %{x}<br>True Label: %{y}<br>Count: %{z}<extra></extra>",
         "name": "0",
         "texttemplate": "%{z}",
         "type": "heatmap",
         "xaxis": "x",
         "yaxis": "y",
         "z": [
          [
           289,
           0,
           1,
           0,
           6,
           0,
           0,
           2,
           0,
           0,
           0,
           0,
           0,
           0,
           2,
           0,
           1,
           1,
           6,
           0
          ],
          [
           0,
           63,
           0,
           0,
           1,
           1,
           0,
           0,
           0,
           0,
           0,
           0,
           0,
           0,
           0,
           0,
           0,
           3,
           1,
           0
          ],
          [
           1,
           0,
           190,
           0,
           1,
           0,
           0,
           0,
           0,
           0,
           0,
           3,
           0,
           0,
           0,
           0,
           0,
           0,
           0,
           0
          ],
          [
           1,
           1,
           0,
           77,
           0,
           0,
           0,
           0,
           0,
           0,
           0,
           0,
           0,
           0,
           0,
           0,
           0,
           0,
           0,
           0
          ],
          [
           1,
           0,
           1,
           0,
           126,
           1,
           0,
           0,
           0,
           0,
           0,
           1,
           1,
           1,
           0,
           0,
           0,
           0,
           0,
           0
          ],
          [
           1,
           0,
           1,
           0,
           3,
           149,
           0,
           0,
           0,
           1,
           0,
           1,
           0,
           0,
           0,
           0,
           0,
           1,
           0,
           0
          ],
          [
           1,
           0,
           0,
           2,
           0,
           0,
           158,
           3,
           0,
           0,
           0,
           0,
           0,
           0,
           0,
           1,
           0,
           2,
           0,
           1
          ],
          [
           1,
           0,
           0,
           0,
           0,
           0,
           0,
           32,
           0,
           0,
           0,
           0,
           0,
           0,
           0,
           0,
           0,
           0,
           0,
           0
          ],
          [
           0,
           0,
           0,
           0,
           1,
           1,
           0,
           0,
           83,
           0,
           1,
           0,
           0,
           0,
           0,
           0,
           0,
           2,
           0,
           0
          ],
          [
           0,
           0,
           0,
           0,
           0,
           0,
           2,
           0,
           0,
           67,
           0,
           0,
           0,
           0,
           0,
           0,
           0,
           0,
           0,
           0
          ],
          [
           0,
           2,
           0,
           0,
           0,
           0,
           1,
           0,
           0,
           0,
           75,
           0,
           0,
           0,
           0,
           0,
           0,
           0,
           1,
           0
          ],
          [
           0,
           1,
           2,
           0,
           1,
           1,
           0,
           0,
           0,
           0,
           1,
           46,
           1,
           0,
           0,
           0,
           0,
           0,
           0,
           0
          ],
          [
           0,
           0,
           0,
           0,
           0,
           0,
           0,
           0,
           0,
           0,
           0,
           0,
           46,
           0,
           1,
           0,
           0,
           1,
           0,
           0
          ],
          [
           1,
           0,
           0,
           0,
           0,
           0,
           0,
           1,
           0,
           0,
           0,
           0,
           1,
           13,
           0,
           0,
           0,
           0,
           0,
           0
          ],
          [
           1,
           0,
           0,
           0,
           0,
           0,
           0,
           0,
           0,
           0,
           0,
           0,
           0,
           0,
           78,
           0,
           0,
           1,
           0,
           0
          ],
          [
           0,
           0,
           0,
           0,
           0,
           0,
           0,
           0,
           0,
           0,
           0,
           0,
           0,
           0,
           0,
           5,
           0,
           0,
           0,
           0
          ],
          [
           0,
           0,
           0,
           1,
           0,
           0,
           0,
           0,
           0,
           0,
           0,
           0,
           0,
           0,
           0,
           1,
           11,
           3,
           0,
           0
          ],
          [
           1,
           1,
           0,
           0,
           0,
           0,
           0,
           0,
           4,
           0,
           1,
           0,
           0,
           0,
           3,
           0,
           0,
           189,
           1,
           0
          ],
          [
           3,
           0,
           0,
           0,
           1,
           0,
           1,
           0,
           0,
           3,
           1,
           0,
           0,
           0,
           9,
           0,
           0,
           2,
           52,
           0
          ],
          [
           0,
           0,
           0,
           0,
           0,
           0,
           1,
           0,
           0,
           0,
           0,
           0,
           0,
           0,
           0,
           0,
           0,
           0,
           0,
           15
          ]
         ]
        }
       ],
       "layout": {
        "coloraxis": {
         "colorbar": {
          "title": {
           "text": "Count"
          }
         },
         "colorscale": [
          [
           0,
           "rgb(247,251,255)"
          ],
          [
           0.125,
           "rgb(222,235,247)"
          ],
          [
           0.25,
           "rgb(198,219,239)"
          ],
          [
           0.375,
           "rgb(158,202,225)"
          ],
          [
           0.5,
           "rgb(107,174,214)"
          ],
          [
           0.625,
           "rgb(66,146,198)"
          ],
          [
           0.75,
           "rgb(33,113,181)"
          ],
          [
           0.875,
           "rgb(8,81,156)"
          ],
          [
           1,
           "rgb(8,48,107)"
          ]
         ]
        },
        "height": 600,
        "template": {
         "data": {
          "bar": [
           {
            "error_x": {
             "color": "#2a3f5f"
            },
            "error_y": {
             "color": "#2a3f5f"
            },
            "marker": {
             "line": {
              "color": "#E5ECF6",
              "width": 0.5
             },
             "pattern": {
              "fillmode": "overlay",
              "size": 10,
              "solidity": 0.2
             }
            },
            "type": "bar"
           }
          ],
          "barpolar": [
           {
            "marker": {
             "line": {
              "color": "#E5ECF6",
              "width": 0.5
             },
             "pattern": {
              "fillmode": "overlay",
              "size": 10,
              "solidity": 0.2
             }
            },
            "type": "barpolar"
           }
          ],
          "carpet": [
           {
            "aaxis": {
             "endlinecolor": "#2a3f5f",
             "gridcolor": "white",
             "linecolor": "white",
             "minorgridcolor": "white",
             "startlinecolor": "#2a3f5f"
            },
            "baxis": {
             "endlinecolor": "#2a3f5f",
             "gridcolor": "white",
             "linecolor": "white",
             "minorgridcolor": "white",
             "startlinecolor": "#2a3f5f"
            },
            "type": "carpet"
           }
          ],
          "choropleth": [
           {
            "colorbar": {
             "outlinewidth": 0,
             "ticks": ""
            },
            "type": "choropleth"
           }
          ],
          "contour": [
           {
            "colorbar": {
             "outlinewidth": 0,
             "ticks": ""
            },
            "colorscale": [
             [
              0,
              "#0d0887"
             ],
             [
              0.1111111111111111,
              "#46039f"
             ],
             [
              0.2222222222222222,
              "#7201a8"
             ],
             [
              0.3333333333333333,
              "#9c179e"
             ],
             [
              0.4444444444444444,
              "#bd3786"
             ],
             [
              0.5555555555555556,
              "#d8576b"
             ],
             [
              0.6666666666666666,
              "#ed7953"
             ],
             [
              0.7777777777777778,
              "#fb9f3a"
             ],
             [
              0.8888888888888888,
              "#fdca26"
             ],
             [
              1,
              "#f0f921"
             ]
            ],
            "type": "contour"
           }
          ],
          "contourcarpet": [
           {
            "colorbar": {
             "outlinewidth": 0,
             "ticks": ""
            },
            "type": "contourcarpet"
           }
          ],
          "heatmap": [
           {
            "colorbar": {
             "outlinewidth": 0,
             "ticks": ""
            },
            "colorscale": [
             [
              0,
              "#0d0887"
             ],
             [
              0.1111111111111111,
              "#46039f"
             ],
             [
              0.2222222222222222,
              "#7201a8"
             ],
             [
              0.3333333333333333,
              "#9c179e"
             ],
             [
              0.4444444444444444,
              "#bd3786"
             ],
             [
              0.5555555555555556,
              "#d8576b"
             ],
             [
              0.6666666666666666,
              "#ed7953"
             ],
             [
              0.7777777777777778,
              "#fb9f3a"
             ],
             [
              0.8888888888888888,
              "#fdca26"
             ],
             [
              1,
              "#f0f921"
             ]
            ],
            "type": "heatmap"
           }
          ],
          "heatmapgl": [
           {
            "colorbar": {
             "outlinewidth": 0,
             "ticks": ""
            },
            "colorscale": [
             [
              0,
              "#0d0887"
             ],
             [
              0.1111111111111111,
              "#46039f"
             ],
             [
              0.2222222222222222,
              "#7201a8"
             ],
             [
              0.3333333333333333,
              "#9c179e"
             ],
             [
              0.4444444444444444,
              "#bd3786"
             ],
             [
              0.5555555555555556,
              "#d8576b"
             ],
             [
              0.6666666666666666,
              "#ed7953"
             ],
             [
              0.7777777777777778,
              "#fb9f3a"
             ],
             [
              0.8888888888888888,
              "#fdca26"
             ],
             [
              1,
              "#f0f921"
             ]
            ],
            "type": "heatmapgl"
           }
          ],
          "histogram": [
           {
            "marker": {
             "pattern": {
              "fillmode": "overlay",
              "size": 10,
              "solidity": 0.2
             }
            },
            "type": "histogram"
           }
          ],
          "histogram2d": [
           {
            "colorbar": {
             "outlinewidth": 0,
             "ticks": ""
            },
            "colorscale": [
             [
              0,
              "#0d0887"
             ],
             [
              0.1111111111111111,
              "#46039f"
             ],
             [
              0.2222222222222222,
              "#7201a8"
             ],
             [
              0.3333333333333333,
              "#9c179e"
             ],
             [
              0.4444444444444444,
              "#bd3786"
             ],
             [
              0.5555555555555556,
              "#d8576b"
             ],
             [
              0.6666666666666666,
              "#ed7953"
             ],
             [
              0.7777777777777778,
              "#fb9f3a"
             ],
             [
              0.8888888888888888,
              "#fdca26"
             ],
             [
              1,
              "#f0f921"
             ]
            ],
            "type": "histogram2d"
           }
          ],
          "histogram2dcontour": [
           {
            "colorbar": {
             "outlinewidth": 0,
             "ticks": ""
            },
            "colorscale": [
             [
              0,
              "#0d0887"
             ],
             [
              0.1111111111111111,
              "#46039f"
             ],
             [
              0.2222222222222222,
              "#7201a8"
             ],
             [
              0.3333333333333333,
              "#9c179e"
             ],
             [
              0.4444444444444444,
              "#bd3786"
             ],
             [
              0.5555555555555556,
              "#d8576b"
             ],
             [
              0.6666666666666666,
              "#ed7953"
             ],
             [
              0.7777777777777778,
              "#fb9f3a"
             ],
             [
              0.8888888888888888,
              "#fdca26"
             ],
             [
              1,
              "#f0f921"
             ]
            ],
            "type": "histogram2dcontour"
           }
          ],
          "mesh3d": [
           {
            "colorbar": {
             "outlinewidth": 0,
             "ticks": ""
            },
            "type": "mesh3d"
           }
          ],
          "parcoords": [
           {
            "line": {
             "colorbar": {
              "outlinewidth": 0,
              "ticks": ""
             }
            },
            "type": "parcoords"
           }
          ],
          "pie": [
           {
            "automargin": true,
            "type": "pie"
           }
          ],
          "scatter": [
           {
            "fillpattern": {
             "fillmode": "overlay",
             "size": 10,
             "solidity": 0.2
            },
            "type": "scatter"
           }
          ],
          "scatter3d": [
           {
            "line": {
             "colorbar": {
              "outlinewidth": 0,
              "ticks": ""
             }
            },
            "marker": {
             "colorbar": {
              "outlinewidth": 0,
              "ticks": ""
             }
            },
            "type": "scatter3d"
           }
          ],
          "scattercarpet": [
           {
            "marker": {
             "colorbar": {
              "outlinewidth": 0,
              "ticks": ""
             }
            },
            "type": "scattercarpet"
           }
          ],
          "scattergeo": [
           {
            "marker": {
             "colorbar": {
              "outlinewidth": 0,
              "ticks": ""
             }
            },
            "type": "scattergeo"
           }
          ],
          "scattergl": [
           {
            "marker": {
             "colorbar": {
              "outlinewidth": 0,
              "ticks": ""
             }
            },
            "type": "scattergl"
           }
          ],
          "scattermapbox": [
           {
            "marker": {
             "colorbar": {
              "outlinewidth": 0,
              "ticks": ""
             }
            },
            "type": "scattermapbox"
           }
          ],
          "scatterpolar": [
           {
            "marker": {
             "colorbar": {
              "outlinewidth": 0,
              "ticks": ""
             }
            },
            "type": "scatterpolar"
           }
          ],
          "scatterpolargl": [
           {
            "marker": {
             "colorbar": {
              "outlinewidth": 0,
              "ticks": ""
             }
            },
            "type": "scatterpolargl"
           }
          ],
          "scatterternary": [
           {
            "marker": {
             "colorbar": {
              "outlinewidth": 0,
              "ticks": ""
             }
            },
            "type": "scatterternary"
           }
          ],
          "surface": [
           {
            "colorbar": {
             "outlinewidth": 0,
             "ticks": ""
            },
            "colorscale": [
             [
              0,
              "#0d0887"
             ],
             [
              0.1111111111111111,
              "#46039f"
             ],
             [
              0.2222222222222222,
              "#7201a8"
             ],
             [
              0.3333333333333333,
              "#9c179e"
             ],
             [
              0.4444444444444444,
              "#bd3786"
             ],
             [
              0.5555555555555556,
              "#d8576b"
             ],
             [
              0.6666666666666666,
              "#ed7953"
             ],
             [
              0.7777777777777778,
              "#fb9f3a"
             ],
             [
              0.8888888888888888,
              "#fdca26"
             ],
             [
              1,
              "#f0f921"
             ]
            ],
            "type": "surface"
           }
          ],
          "table": [
           {
            "cells": {
             "fill": {
              "color": "#EBF0F8"
             },
             "line": {
              "color": "white"
             }
            },
            "header": {
             "fill": {
              "color": "#C8D4E3"
             },
             "line": {
              "color": "white"
             }
            },
            "type": "table"
           }
          ]
         },
         "layout": {
          "annotationdefaults": {
           "arrowcolor": "#2a3f5f",
           "arrowhead": 0,
           "arrowwidth": 1
          },
          "autotypenumbers": "strict",
          "coloraxis": {
           "colorbar": {
            "outlinewidth": 0,
            "ticks": ""
           }
          },
          "colorscale": {
           "diverging": [
            [
             0,
             "#8e0152"
            ],
            [
             0.1,
             "#c51b7d"
            ],
            [
             0.2,
             "#de77ae"
            ],
            [
             0.3,
             "#f1b6da"
            ],
            [
             0.4,
             "#fde0ef"
            ],
            [
             0.5,
             "#f7f7f7"
            ],
            [
             0.6,
             "#e6f5d0"
            ],
            [
             0.7,
             "#b8e186"
            ],
            [
             0.8,
             "#7fbc41"
            ],
            [
             0.9,
             "#4d9221"
            ],
            [
             1,
             "#276419"
            ]
           ],
           "sequential": [
            [
             0,
             "#0d0887"
            ],
            [
             0.1111111111111111,
             "#46039f"
            ],
            [
             0.2222222222222222,
             "#7201a8"
            ],
            [
             0.3333333333333333,
             "#9c179e"
            ],
            [
             0.4444444444444444,
             "#bd3786"
            ],
            [
             0.5555555555555556,
             "#d8576b"
            ],
            [
             0.6666666666666666,
             "#ed7953"
            ],
            [
             0.7777777777777778,
             "#fb9f3a"
            ],
            [
             0.8888888888888888,
             "#fdca26"
            ],
            [
             1,
             "#f0f921"
            ]
           ],
           "sequentialminus": [
            [
             0,
             "#0d0887"
            ],
            [
             0.1111111111111111,
             "#46039f"
            ],
            [
             0.2222222222222222,
             "#7201a8"
            ],
            [
             0.3333333333333333,
             "#9c179e"
            ],
            [
             0.4444444444444444,
             "#bd3786"
            ],
            [
             0.5555555555555556,
             "#d8576b"
            ],
            [
             0.6666666666666666,
             "#ed7953"
            ],
            [
             0.7777777777777778,
             "#fb9f3a"
            ],
            [
             0.8888888888888888,
             "#fdca26"
            ],
            [
             1,
             "#f0f921"
            ]
           ]
          },
          "colorway": [
           "#636efa",
           "#EF553B",
           "#00cc96",
           "#ab63fa",
           "#FFA15A",
           "#19d3f3",
           "#FF6692",
           "#B6E880",
           "#FF97FF",
           "#FECB52"
          ],
          "font": {
           "color": "#2a3f5f"
          },
          "geo": {
           "bgcolor": "white",
           "lakecolor": "white",
           "landcolor": "#E5ECF6",
           "showlakes": true,
           "showland": true,
           "subunitcolor": "white"
          },
          "hoverlabel": {
           "align": "left"
          },
          "hovermode": "closest",
          "mapbox": {
           "style": "light"
          },
          "paper_bgcolor": "white",
          "plot_bgcolor": "#E5ECF6",
          "polar": {
           "angularaxis": {
            "gridcolor": "white",
            "linecolor": "white",
            "ticks": ""
           },
           "bgcolor": "#E5ECF6",
           "radialaxis": {
            "gridcolor": "white",
            "linecolor": "white",
            "ticks": ""
           }
          },
          "scene": {
           "xaxis": {
            "backgroundcolor": "#E5ECF6",
            "gridcolor": "white",
            "gridwidth": 2,
            "linecolor": "white",
            "showbackground": true,
            "ticks": "",
            "zerolinecolor": "white"
           },
           "yaxis": {
            "backgroundcolor": "#E5ECF6",
            "gridcolor": "white",
            "gridwidth": 2,
            "linecolor": "white",
            "showbackground": true,
            "ticks": "",
            "zerolinecolor": "white"
           },
           "zaxis": {
            "backgroundcolor": "#E5ECF6",
            "gridcolor": "white",
            "gridwidth": 2,
            "linecolor": "white",
            "showbackground": true,
            "ticks": "",
            "zerolinecolor": "white"
           }
          },
          "shapedefaults": {
           "line": {
            "color": "#2a3f5f"
           }
          },
          "ternary": {
           "aaxis": {
            "gridcolor": "white",
            "linecolor": "white",
            "ticks": ""
           },
           "baxis": {
            "gridcolor": "white",
            "linecolor": "white",
            "ticks": ""
           },
           "bgcolor": "#E5ECF6",
           "caxis": {
            "gridcolor": "white",
            "linecolor": "white",
            "ticks": ""
           }
          },
          "title": {
           "x": 0.05
          },
          "xaxis": {
           "automargin": true,
           "gridcolor": "white",
           "linecolor": "white",
           "ticks": "",
           "title": {
            "standoff": 15
           },
           "zerolinecolor": "white",
           "zerolinewidth": 2
          },
          "yaxis": {
           "automargin": true,
           "gridcolor": "white",
           "linecolor": "white",
           "ticks": "",
           "title": {
            "standoff": 15
           },
           "zerolinecolor": "white",
           "zerolinewidth": 2
          }
         }
        },
        "title": {
         "text": "Confusion Matrix"
        },
        "width": 600,
        "xaxis": {
         "anchor": "y",
         "domain": [
          0,
          1
         ],
         "title": {
          "text": "Predicted Label"
         }
        },
        "yaxis": {
         "anchor": "x",
         "autorange": "reversed",
         "domain": [
          0,
          1
         ],
         "title": {
          "text": "True Label"
         }
        }
       }
      }
     },
     "metadata": {},
     "output_type": "display_data"
    }
   ],
   "source": [
    "# import libraries for classification report\n",
    "from sklearn.metrics import classification_report\n",
    "from sklearn.metrics import confusion_matrix, ConfusionMatrixDisplay\n",
    "\n",
    "# read in validation data \n",
    "test = pd.read_parquet('../data/llm_validation_data.parquet')\n",
    "\n",
    "# print classification report\n",
    "print(classification_report(test['labels'].values, test.predicted_labels_integer.values))\n",
    "\n",
    "# create confusion matrix\n",
    "cm = confusion_matrix(test['labels'].values, test.predicted_labels_integer.values)\n",
    "\n",
    "fig = px.imshow(cm,\n",
    "                text_auto=True, \n",
    "                aspect=\"auto\",\n",
    "                color_continuous_scale='Blues',\n",
    "                labels=dict(x=\"Predicted Label\", y=\"True Label\", color=\"Count\"),\n",
    "                title=\"Confusion Matrix\",\n",
    ")\n",
    "fig.update_layout(\n",
    "    height=600,\n",
    "    width=600,\n",
    ")\n",
    "fig.show()"
   ]
  },
  {
   "cell_type": "code",
   "execution_count": null,
   "id": "b0f2a3b6",
   "metadata": {},
   "outputs": [],
   "source": []
  }
 ],
 "metadata": {
  "kernelspec": {
   "display_name": "env1",
   "language": "python",
   "name": "python3"
  },
  "language_info": {
   "codemirror_mode": {
    "name": "ipython",
    "version": 3
   },
   "file_extension": ".py",
   "mimetype": "text/x-python",
   "name": "python",
   "nbconvert_exporter": "python",
   "pygments_lexer": "ipython3",
   "version": "3.13.0"
  }
 },
 "nbformat": 4,
 "nbformat_minor": 5
}
