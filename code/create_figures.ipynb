{
 "cells": [
  {
   "cell_type": "markdown",
   "id": "eadc37e9",
   "metadata": {},
   "source": [
    "# Description\n",
    "\n",
    "This notebook provides the code to re-produce figures and tables for *The Lancet Countdown on Health and Climate Change* **Indicator 5.3.3: Political party engagement with health and climate change**\n",
    "\n",
    "**Authors:** Zach Dickson & Cornelius Erfort "
   ]
  },
  {
   "cell_type": "code",
   "execution_count": 8,
   "id": "2fdf2063",
   "metadata": {},
   "outputs": [],
   "source": [
    "!pip install -q plotly pandas numpy nbformat kaleido scikit-learn matplotlib seaborn"
   ]
  },
  {
   "cell_type": "markdown",
   "id": "8260596f",
   "metadata": {},
   "source": [
    "## Primary Figure: Indicator 5.3.3: Political party engagement with health and climate change"
   ]
  },
  {
   "cell_type": "code",
   "execution_count": 4,
   "id": "d949ef28",
   "metadata": {},
   "outputs": [
    {
     "data": {
      "application/vnd.plotly.v1+json": {
       "config": {
        "plotlyServerURL": "https://plot.ly"
       },
       "data": [
        {
         "line": {
          "color": "#1f77b4",
          "width": 5
         },
         "mode": "lines+markers",
         "name": "Christian Democracy",
         "showlegend": true,
         "type": "scatter",
         "x": {
          "bdata": "AAAAAABon0AAAAAAAGyfQAAAAAAAcJ9AAAAAAAB0n0AAAAAAAHifQAAAAAAAfJ9AAAAAAACAn0AAAAAAAISfQAAAAAAAiJ9AAAAAAACMn0AAAAAAAJCfQAAAAAAAlJ9AAAAAAACYn0AAAAAAAJyfQAAAAAAAoJ9AAAAAAACkn0A=",
          "dtype": "f8"
         },
         "xaxis": "x",
         "y": {
          "bdata": "+7fzCdl3qj8eg3TC1/SrP/XDffooD60/My3AVmYeqj8qMmEqxq2lPzjott+3cqI/jkt9mkyuoT8PDH0q/rWjP5FRj4RUtac/GYwi0Gr1qz/o1KWmjCKrP14rkhtIcqk/AK7hoHqWrD97dXV77sauP55fl9Jx9rU/ZiSvtpggvz8=",
          "dtype": "f8"
         },
         "yaxis": "y"
        },
        {
         "line": {
          "color": "#9D755D",
          "width": 5
         },
         "mode": "lines+markers",
         "name": "Conservative",
         "showlegend": true,
         "type": "scatter",
         "x": {
          "bdata": "AAAAAABon0AAAAAAAGyfQAAAAAAAcJ9AAAAAAAB0n0AAAAAAAHifQAAAAAAAfJ9AAAAAAACAn0AAAAAAAISfQAAAAAAAiJ9AAAAAAACMn0AAAAAAAJCfQAAAAAAAlJ9AAAAAAACYn0AAAAAAAJyfQAAAAAAAoJ9AAAAAAACkn0A=",
          "dtype": "f8"
         },
         "xaxis": "x",
         "y": {
          "bdata": "wLCqs+L3lD+ozbDj0BuUPy82IEpsnZI/WR1RClTrlD/SeXiICIGdP8tHJLgvY6I/c9jUx60roT+sIx2UyY+dP59DztyAXKA/ZDaaXVqwoz/qgiRPeuCkPyh8ONpkmKQ/PHOVWITEoz+YZvxSJOehP1kcGfn6qqI/aBqSV5Z5pT8=",
          "dtype": "f8"
         },
         "yaxis": "y"
        },
        {
         "line": {
          "color": "#EECA3B",
          "width": 5
         },
         "mode": "lines+markers",
         "name": "Liberal",
         "showlegend": true,
         "type": "scatter",
         "x": {
          "bdata": "AAAAAABon0AAAAAAAGyfQAAAAAAAcJ9AAAAAAAB0n0AAAAAAAHifQAAAAAAAfJ9AAAAAAACAn0AAAAAAAISfQAAAAAAAiJ9AAAAAAACMn0AAAAAAAJCfQAAAAAAAlJ9AAAAAAACYn0AAAAAAAJyfQAAAAAAAoJ9AAAAAAACkn0A=",
          "dtype": "f8"
         },
         "xaxis": "x",
         "y": {
          "bdata": "GDbLHDbLrD/6Zk/suMSsP3Tjw0Olcqw//pgSjTnFqD/WQPgOGO+iP3PQV8JeTaA/As5KHkE4nT+kcZkWtiCZP5wiFT+q6Jk/GHi3a5Q/pD+AKT4sctmsPwCmTr1Sdq0/5JLCTu2ZrD8ZKTNGFIKwP5y+qWn5nLI/CzKERXi5rz8=",
          "dtype": "f8"
         },
         "yaxis": "y"
        },
        {
         "line": {
          "color": "#54A24B",
          "width": 5
         },
         "mode": "lines+markers",
         "name": "Green",
         "showlegend": true,
         "type": "scatter",
         "x": {
          "bdata": "AAAAAABon0AAAAAAAGyfQAAAAAAAcJ9AAAAAAAB0n0AAAAAAAHifQAAAAAAAfJ9AAAAAAACAn0AAAAAAAISfQAAAAAAAiJ9AAAAAAACMn0AAAAAAAJCfQAAAAAAAlJ9AAAAAAACYn0AAAAAAAJyfQAAAAAAAoJ9AAAAAAACkn0A=",
          "dtype": "f8"
         },
         "xaxis": "x",
         "y": {
          "bdata": "AAAAAAAAwD8WnAoBsDDAP748M4kIn8A/VTxi+FzIwD+k793vJ17BP2CZ5wByicM/a5wVFGAfxT/7loMf4a7GP7NPB4rUfMo/mQ8od020zz+6pSMpuS3RP+a0XY8boNE/vu15ABKI0z/wQu7w/9HTP4UlVgpcJ9I/KCPMJ37uzz8=",
          "dtype": "f8"
         },
         "yaxis": "y"
        },
        {
         "line": {
          "color": "#222A2A",
          "width": 5
         },
         "mode": "lines+markers",
         "name": "Radical Right-Wing",
         "showlegend": true,
         "type": "scatter",
         "x": {
          "bdata": "AAAAAABon0AAAAAAAGyfQAAAAAAAcJ9AAAAAAAB0n0AAAAAAAHifQAAAAAAAfJ9AAAAAAACAn0AAAAAAAISfQAAAAAAAiJ9AAAAAAACMn0AAAAAAAJCfQAAAAAAAlJ9AAAAAAACYn0AAAAAAAJyfQAAAAAAAoJ9AAAAAAACkn0A=",
          "dtype": "f8"
         },
         "xaxis": "x",
         "y": {
          "bdata": "ViGYc5D9oj+T8VJ7uB6jP1pQb4Dq+aI/RvTDpyThoj+5yVCEerShP8efkO/wY50/AsoJ8QqSmD+69iBq8DWXPzCDqrwofJw/ihdLL5SVoz9UzaKTW2ulPwe7cKXYOqM/HGqO9OJwpD90nDj8SCqnPx7IyV054qU/ZmV7S/buoj8=",
          "dtype": "f8"
         },
         "yaxis": "y"
        },
        {
         "line": {
          "color": "#E45756",
          "width": 5
         },
         "mode": "lines+markers",
         "name": "Social Democracy",
         "showlegend": true,
         "type": "scatter",
         "x": {
          "bdata": "AAAAAABon0AAAAAAAGyfQAAAAAAAcJ9AAAAAAAB0n0AAAAAAAHifQAAAAAAAfJ9AAAAAAACAn0AAAAAAAISfQAAAAAAAiJ9AAAAAAACMn0AAAAAAAJCfQAAAAAAAlJ9AAAAAAACYn0AAAAAAAJyfQAAAAAAAoJ9AAAAAAACkn0A=",
          "dtype": "f8"
         },
         "xaxis": "x",
         "y": {
          "bdata": "SxvVyNIWsD+yxUjN1u2vP3yffpjsJ60/he78VEQ6qD+s4wqiLsqlP5q0mRTXbaU/bKxrndVooz87RGR7FC+hP4gcBOnEuaE/Ajr+vDVfpj+y91HmfJSqP90nbo7jRak/y17n2U6Gpz9zdfGDw4eoP8jzJmx6rKk/NvnY2Ao5qD8=",
          "dtype": "f8"
         },
         "yaxis": "y"
        },
        {
         "line": {
          "color": "#1f77b4",
          "width": 5
         },
         "mode": "lines+markers",
         "name": "Christian Democracy",
         "showlegend": false,
         "type": "scatter",
         "x": {
          "bdata": "AAAAAABon0AAAAAAAGyfQAAAAAAAcJ9AAAAAAAB0n0AAAAAAAHifQAAAAAAAfJ9AAAAAAACAn0AAAAAAAISfQAAAAAAAiJ9AAAAAAACMn0AAAAAAAJCfQAAAAAAAlJ9AAAAAAACYn0AAAAAAAJyfQAAAAAAAoJ9AAAAAAACkn0A=",
          "dtype": "f8"
         },
         "xaxis": "x2",
         "y": {
          "bdata": "R9pBkeJipT+4z6sgAhmnP6rAejqll6o/9I3Z3h0orT+E1U3dClOwP8wBb6SGv7E/L3nj+xI3sD/qVKqK0JiuP2VjiVO7J7E/WXfhe0GtsD+cSzIqSzmyP8OJxCmpm7k/8efp0/h+uj/RiHUKoMezP7RYHYvwia4/tYHwu05Zqz8=",
          "dtype": "f8"
         },
         "yaxis": "y2"
        },
        {
         "line": {
          "color": "#9D755D",
          "width": 5
         },
         "mode": "lines+markers",
         "name": "Conservative",
         "showlegend": false,
         "type": "scatter",
         "x": {
          "bdata": "AAAAAABon0AAAAAAAGyfQAAAAAAAcJ9AAAAAAAB0n0AAAAAAAHifQAAAAAAAfJ9AAAAAAACAn0AAAAAAAISfQAAAAAAAiJ9AAAAAAACMn0AAAAAAAJCfQAAAAAAAlJ9AAAAAAACYn0AAAAAAAJyfQAAAAAAAoJ9AAAAAAACkn0A=",
          "dtype": "f8"
         },
         "xaxis": "x2",
         "y": {
          "bdata": "4GgXYhIAmz8TWSx8tOydP9ytgDgaxKQ/9dSwrQ56qz/21+JGVFOtP1qlt8K9bKs/WOc8uBG8qj9cPz4CE8WuP1v4ZsUQZLI/L0zcbhcUsz/CYDTvdNS3PzbDl0xWYcA/ojZZtpQRvT8rJSAUyqywP8L/dxHfGKY/NF/YKx1kpj8=",
          "dtype": "f8"
         },
         "yaxis": "y2"
        },
        {
         "line": {
          "color": "#EECA3B",
          "width": 5
         },
         "mode": "lines+markers",
         "name": "Liberal",
         "showlegend": false,
         "type": "scatter",
         "x": {
          "bdata": "AAAAAABon0AAAAAAAGyfQAAAAAAAcJ9AAAAAAAB0n0AAAAAAAHifQAAAAAAAfJ9AAAAAAACAn0AAAAAAAISfQAAAAAAAiJ9AAAAAAACMn0AAAAAAAJCfQAAAAAAAlJ9AAAAAAACYn0AAAAAAAJyfQAAAAAAAoJ9AAAAAAACkn0A=",
          "dtype": "f8"
         },
         "xaxis": "x2",
         "y": {
          "bdata": "FFDUF1DUpz8G5Rkq+IWpP6ztWlVOvq0/949DGFDlrT9YwXEI+OanP6elFeief6Q/Po3IdXQdpD+w9Tlk1vajP7misXBiyKY/vqJlFXLpqD8pWjNJ4tGxP+GpGwkNBb4//NpZJ28rvz/gO9U0uV2zP1BYsDC1Da0/7HieN9NosD8=",
          "dtype": "f8"
         },
         "yaxis": "y2"
        },
        {
         "line": {
          "color": "#54A24B",
          "width": 5
         },
         "mode": "lines+markers",
         "name": "Green",
         "showlegend": false,
         "type": "scatter",
         "x": {
          "bdata": "AAAAAABon0AAAAAAAGyfQAAAAAAAcJ9AAAAAAAB0n0AAAAAAAHifQAAAAAAAfJ9AAAAAAACAn0AAAAAAAISfQAAAAAAAiJ9AAAAAAACMn0AAAAAAAJCfQAAAAAAAlJ9AAAAAAACYn0AAAAAAAJyfQAAAAAAAoJ9AAAAAAACkn0A=",
          "dtype": "f8"
         },
         "xaxis": "x2",
         "y": {
          "bdata": "xvM8z/M8rz9i0fW0UaeuPyhG3EuAC60/eocfaePBqz9+/smnZsyrPyOgeRRL36s/6Y2LmwJvrD/lfmON6patP0/GEGfNWa0/Ynvd2cFrqj9y/OKNdYusP3INyQ4iaLM/VuLJfWZctD881ShmbMWyP1I+/RVWGLQ/ZgaqrgUYtD8=",
          "dtype": "f8"
         },
         "yaxis": "y2"
        },
        {
         "line": {
          "color": "#222A2A",
          "width": 5
         },
         "mode": "lines+markers",
         "name": "Radical Right-Wing",
         "showlegend": false,
         "type": "scatter",
         "x": {
          "bdata": "AAAAAABon0AAAAAAAGyfQAAAAAAAcJ9AAAAAAAB0n0AAAAAAAHifQAAAAAAAfJ9AAAAAAACAn0AAAAAAAISfQAAAAAAAiJ9AAAAAAACMn0AAAAAAAJCfQAAAAAAAlJ9AAAAAAACYn0AAAAAAAJyfQAAAAAAAoJ9AAAAAAACkn0A=",
          "dtype": "f8"
         },
         "xaxis": "x2",
         "y": {
          "bdata": "quMdjK5csz+uTVmxBu2yP9pfSGtEWLE/OmFbXUNErT/8z2Yl5zepP0XJRyuzaKc/aJCeLd67pD8i64aUXJSjP2TpTkgzYKM/NehD4x2yoT+VLLjDj1urP5ynwjUrj7c/ZcBnZz66uD9qnu+fW2KwP4rsF4uMsKU/9EUjfzqZoj8=",
          "dtype": "f8"
         },
         "yaxis": "y2"
        },
        {
         "line": {
          "color": "#E45756",
          "width": 5
         },
         "mode": "lines+markers",
         "name": "Social Democracy",
         "showlegend": false,
         "type": "scatter",
         "x": {
          "bdata": "AAAAAABon0AAAAAAAGyfQAAAAAAAcJ9AAAAAAAB0n0AAAAAAAHifQAAAAAAAfJ9AAAAAAACAn0AAAAAAAISfQAAAAAAAiJ9AAAAAAACMn0AAAAAAAJCfQAAAAAAAlJ9AAAAAAACYn0AAAAAAAJyfQAAAAAAAoJ9AAAAAAACkn0A=",
          "dtype": "f8"
         },
         "xaxis": "x2",
         "y": {
          "bdata": "qZaa3A5AsT8QBgb7EeiwP4YUDPq2i7A/uqSBmxSSsD+bI4y/096wP3Z43YfT2rE/eDlm9gWMsj/adcAbCFKyP4o20FxVv7I/oEFxy1S6sz/8zRhUC6i4P7LIEiWuvsA/oniDI8iSvz+HBGJYJdWzPwnApSTFGK4/vmsIZntOsD8=",
          "dtype": "f8"
         },
         "yaxis": "y2"
        },
        {
         "line": {
          "color": "#1f77b4",
          "width": 5
         },
         "mode": "lines+markers",
         "name": "Christian Democracy",
         "showlegend": false,
         "type": "scatter",
         "x": {
          "bdata": "AAAAAABon0AAAAAAAGyfQAAAAAAAcJ9AAAAAAAB0n0AAAAAAAHifQAAAAAAAfJ9AAAAAAACAn0AAAAAAAISfQAAAAAAAiJ9AAAAAAACMn0AAAAAAAJCfQAAAAAAAlJ9AAAAAAACYn0AAAAAAAJyfQAAAAAAAoJ9AAAAAAACkn0A=",
          "dtype": "f8"
         },
         "xaxis": "x3",
         "y": {
          "bdata": "PDim54rwcD/akrxg2ER3P7vs4B3Mf4A/YJ+oUtRTfz9HdhhHSLB6PyKzo9c2cXk/1tfJbYZDdT8Vv/325ld1P8n6yyrlrns/MhGi1tu4fj++PloSUrCIP/BDjA3TyZY/IFijw3/Plz9e7AGbQiCLP7onrjCQkn4/HClvi9F5gD8=",
          "dtype": "f8"
         },
         "yaxis": "y3"
        },
        {
         "line": {
          "color": "#9D755D",
          "width": 5
         },
         "mode": "lines+markers",
         "name": "Conservative",
         "showlegend": false,
         "type": "scatter",
         "x": {
          "bdata": "AAAAAABon0AAAAAAAGyfQAAAAAAAcJ9AAAAAAAB0n0AAAAAAAHifQAAAAAAAfJ9AAAAAAACAn0AAAAAAAISfQAAAAAAAiJ9AAAAAAACMn0AAAAAAAJCfQAAAAAAAlJ9AAAAAAACYn0AAAAAAAJyfQAAAAAAAoJ9AAAAAAACkn0A=",
          "dtype": "f8"
         },
         "xaxis": "x3",
         "y": {
          "bdata": "/nxBMOBGaT+qnnAEOO1mP+rgMFWfxGE/wAYjJXbAZD+036ffw41wP3N7PsfxJnE/4hyjeIVeZz/aNIciPt1iP4nmsYyiD2Y/Iub9feizaz9mm0o1PUCQP3hB2CkUiaA/3u5yQrxSmT9ouKa98EiAP4bkrMVAVmo/0Ax8wsBqaT8=",
          "dtype": "f8"
         },
         "yaxis": "y3"
        },
        {
         "line": {
          "color": "#EECA3B",
          "width": 5
         },
         "mode": "lines+markers",
         "name": "Liberal",
         "showlegend": false,
         "type": "scatter",
         "x": {
          "bdata": "AAAAAABon0AAAAAAAGyfQAAAAAAAcJ9AAAAAAAB0n0AAAAAAAHifQAAAAAAAfJ9AAAAAAACAn0AAAAAAAISfQAAAAAAAiJ9AAAAAAACMn0AAAAAAAJCfQAAAAAAAlJ9AAAAAAACYn0AAAAAAAJyfQAAAAAAAoJ9AAAAAAACkn0A=",
          "dtype": "f8"
         },
         "xaxis": "x3",
         "y": {
          "bdata": "lL/FH8DFbz/S7bvG+gNxPxQZR3mz1XA/2VGuP2JqaD+ubEzfnLJjP32uVycGv2Y/8Sa/FxZnaT8QTOsBT9ptP2NdVRZFi3A/lAgX01DtcD+C942Im9SIP2h7XrRZyJs/B181aEyNmz8qf0qC+kmLP26NEYSHsXw/Ii3th7KleT8=",
          "dtype": "f8"
         },
         "yaxis": "y3"
        },
        {
         "line": {
          "color": "#54A24B",
          "width": 5
         },
         "mode": "lines+markers",
         "name": "Green",
         "showlegend": false,
         "type": "scatter",
         "x": {
          "bdata": "AAAAAABon0AAAAAAAGyfQAAAAAAAcJ9AAAAAAAB0n0AAAAAAAHifQAAAAAAAfJ9AAAAAAACAn0AAAAAAAISfQAAAAAAAiJ9AAAAAAACMn0AAAAAAAJCfQAAAAAAAlJ9AAAAAAACYn0AAAAAAAJyfQAAAAAAAoJ9AAAAAAACkn0A=",
          "dtype": "f8"
         },
         "xaxis": "x3",
         "y": {
          "bdata": "UhzHcRzHgT9dtCc2wOOBP+wMtgEwioE/HLgxVmUigT9QS0EB2h6AP/om7LT7A3w/57wQOTrvgT8iavk+HySMP0AqUpRXKo8/OUNlQ4eiiT9oxDNSwwSRP2rnV9m1fpw/qM+s7CLCnj/ErrfMl2iZP14OKH1p2pQ/GoFEYhbchz8=",
          "dtype": "f8"
         },
         "yaxis": "y3"
        },
        {
         "line": {
          "color": "#222A2A",
          "width": 5
         },
         "mode": "lines+markers",
         "name": "Radical Right-Wing",
         "showlegend": false,
         "type": "scatter",
         "x": {
          "bdata": "AAAAAABon0AAAAAAAGyfQAAAAAAAcJ9AAAAAAAB0n0AAAAAAAHifQAAAAAAAfJ9AAAAAAACAn0AAAAAAAISfQAAAAAAAiJ9AAAAAAACMn0AAAAAAAJCfQAAAAAAAlJ9AAAAAAACYn0AAAAAAAJyfQAAAAAAAoJ9AAAAAAACkn0A=",
          "dtype": "f8"
         },
         "xaxis": "x3",
         "y": {
          "bdata": "XUOXMJ9weD8QeBda1bB6P3QsF0xaToE/UAAdHnSNgj9ATgkxRQt6P/pT0vEz83E/cnFK2plmcT+cAhkrPZRyP3Zyh0HOiHU/gD7eFJTVdD8VlUdWuOCAPws11bqk+Y8/juDTSFkSkT9yZTgwjnOEP/JzaMy1YnI//mGM3apabD8=",
          "dtype": "f8"
         },
         "yaxis": "y3"
        },
        {
         "line": {
          "color": "#E45756",
          "width": 5
         },
         "mode": "lines+markers",
         "name": "Social Democracy",
         "showlegend": false,
         "type": "scatter",
         "x": {
          "bdata": "AAAAAABon0AAAAAAAGyfQAAAAAAAcJ9AAAAAAAB0n0AAAAAAAHifQAAAAAAAfJ9AAAAAAACAn0AAAAAAAISfQAAAAAAAiJ9AAAAAAACMn0AAAAAAAJCfQAAAAAAAlJ9AAAAAAACYn0AAAAAAAJyfQAAAAAAAoJ9AAAAAAACkn0A=",
          "dtype": "f8"
         },
         "xaxis": "x3",
         "y": {
          "bdata": "ie66+bjYfz/LMOAZP6OBPzPLE/K+SoM/YLsi4McogT9Whgtp7Fl8P3Yd6D6R3nk/DApgmnvDeT8om3tWAmR5P74Tr34RLHc/IeYu4FvZdT/2+M+Mm9yFP626IkraP5U/UGHP7mJulD+qOT108NKCPwjVFG27UW8/TDyVmZPObj8=",
          "dtype": "f8"
         },
         "yaxis": "y3"
        },
        {
         "line": {
          "color": "#1f77b4",
          "width": 5
         },
         "mode": "lines+markers",
         "name": "Christian Democracy",
         "showlegend": false,
         "type": "scatter",
         "x": {
          "bdata": "AAAAAABon0AAAAAAAGyfQAAAAAAAcJ9AAAAAAAB0n0AAAAAAAHifQAAAAAAAfJ9AAAAAAACAn0AAAAAAAISfQAAAAAAAiJ9AAAAAAACMn0AAAAAAAJCfQAAAAAAAlJ9AAAAAAACYn0AAAAAAAJyfQAAAAAAAoJ9AAAAAAACkn0A=",
          "dtype": "f8"
         },
         "xaxis": "x4",
         "y": {
          "bdata": "AAAAAAAAJEAAAAAAAIAtQAAAAAAAQDVAAAAAAADAMkAAAAAAAIAxQAAAAAAAQDRAAAAAAAAAMEAAAAAAAAApQAAAAAAAgDBAAAAAAAAANkAAAAAAAOBEQAAAAAAAUFNAAAAAAACwU0AAAAAAAEBFQAAAAAAAwDRAAAAAAAAAMUA=",
          "dtype": "f8"
         },
         "yaxis": "y4"
        },
        {
         "line": {
          "color": "#9D755D",
          "width": 5
         },
         "mode": "lines+markers",
         "name": "Conservative",
         "showlegend": false,
         "type": "scatter",
         "x": {
          "bdata": "AAAAAABon0AAAAAAAGyfQAAAAAAAcJ9AAAAAAAB0n0AAAAAAAHifQAAAAAAAfJ9AAAAAAACAn0AAAAAAAISfQAAAAAAAiJ9AAAAAAACMn0AAAAAAAJCfQAAAAAAAlJ9AAAAAAACYn0AAAAAAAJyfQAAAAAAAoJ9AAAAAAACkn0A=",
          "dtype": "f8"
         },
         "xaxis": "x4",
         "y": {
          "bdata": "AAAAAAAAJkAAAAAAAIAjQAAAAAAAAB1AAAAAAAAAIUAAAAAAAAAqQAAAAAAAAC1AAAAAAACALEAAAAAAAAAvQAAAAAAAQDBAAAAAAAAAL0AAAAAAADBWQAAAAAAAyGdAAAAAAABQYkAAAAAAAGBGQAAAAAAAgChAAAAAAACAIUA=",
          "dtype": "f8"
         },
         "yaxis": "y4"
        },
        {
         "line": {
          "color": "#EECA3B",
          "width": 5
         },
         "mode": "lines+markers",
         "name": "Liberal",
         "showlegend": false,
         "type": "scatter",
         "x": {
          "bdata": "AAAAAABon0AAAAAAAGyfQAAAAAAAcJ9AAAAAAAB0n0AAAAAAAHifQAAAAAAAfJ9AAAAAAACAn0AAAAAAAISfQAAAAAAAiJ9AAAAAAACMn0AAAAAAAJCfQAAAAAAAlJ9AAAAAAACYn0AAAAAAAJyfQAAAAAAAoJ9AAAAAAACkn0A=",
          "dtype": "f8"
         },
         "xaxis": "x4",
         "y": {
          "bdata": "AAAAAAAAGEAAAAAAAAAaQAAAAAAAABpAAAAAAAAAE0AAAAAAAAAWQAAAAAAAgCJAAAAAAAAAJ0AAAAAAAIAqQAAAAAAAADBAAAAAAABAMUAAAAAAACBFQAAAAAAAAFVAAAAAAACgUkAAAAAAAAA+QAAAAAAAACJAAAAAAAAAFUA=",
          "dtype": "f8"
         },
         "yaxis": "y4"
        },
        {
         "line": {
          "color": "#54A24B",
          "width": 5
         },
         "mode": "lines+markers",
         "name": "Green",
         "showlegend": false,
         "type": "scatter",
         "x": {
          "bdata": "AAAAAABon0AAAAAAAGyfQAAAAAAAcJ9AAAAAAAB0n0AAAAAAAHifQAAAAAAAfJ9AAAAAAACAn0AAAAAAAISfQAAAAAAAiJ9AAAAAAACMn0AAAAAAAJCfQAAAAAAAlJ9AAAAAAACYn0AAAAAAAJyfQAAAAAAAoJ9AAAAAAACkn0A=",
          "dtype": "f8"
         },
         "xaxis": "x4",
         "y": {
          "bdata": "AAAAAACAQUAAAAAAAIBBQAAAAAAAgEBAAAAAAAAAPUAAAAAAAAA5QAAAAAAAQDZAAAAAAAAAPUAAAAAAAOBEQAAAAAAAIERAAAAAAAAAO0AAAAAAAMA+QAAAAAAAAEhAAAAAAAAgR0AAAAAAAAA8QAAAAAAAACtAAAAAAAAAGUA=",
          "dtype": "f8"
         },
         "yaxis": "y4"
        },
        {
         "line": {
          "color": "#222A2A",
          "width": 5
         },
         "mode": "lines+markers",
         "name": "Radical Right-Wing",
         "showlegend": false,
         "type": "scatter",
         "x": {
          "bdata": "AAAAAABon0AAAAAAAGyfQAAAAAAAcJ9AAAAAAAB0n0AAAAAAAHifQAAAAAAAfJ9AAAAAAACAn0AAAAAAAISfQAAAAAAAiJ9AAAAAAACMn0AAAAAAAJCfQAAAAAAAlJ9AAAAAAACYn0AAAAAAAJyfQAAAAAAAoJ9AAAAAAACkn0A=",
          "dtype": "f8"
         },
         "xaxis": "x4",
         "y": {
          "bdata": "AAAAAACAQkAAAAAAACBDQAAAAAAAoEVAAAAAAABgRUAAAAAAAMA9QAAAAAAAQDVAAAAAAADANUAAAAAAAMA3QAAAAAAAAD1AAAAAAACAPUAAAAAAACBLQAAAAAAAMF1AAAAAAACgYEAAAAAAACBTQAAAAAAAQDlAAAAAAACAKEA=",
          "dtype": "f8"
         },
         "yaxis": "y4"
        },
        {
         "line": {
          "color": "#E45756",
          "width": 5
         },
         "mode": "lines+markers",
         "name": "Social Democracy",
         "showlegend": false,
         "type": "scatter",
         "x": {
          "bdata": "AAAAAABon0AAAAAAAGyfQAAAAAAAcJ9AAAAAAAB0n0AAAAAAAHifQAAAAAAAfJ9AAAAAAACAn0AAAAAAAISfQAAAAAAAiJ9AAAAAAACMn0AAAAAAAJCfQAAAAAAAlJ9AAAAAAACYn0AAAAAAAJyfQAAAAAAAoJ9AAAAAAACkn0A=",
          "dtype": "f8"
         },
         "xaxis": "x4",
         "y": {
          "bdata": "AAAAAAAATkAAAAAAAEBQQAAAAAAAAFJAAAAAAABwUUAAAAAAAIBPQAAAAAAAAE1AAAAAAADASUAAAAAAAABHQAAAAAAAoEdAAAAAAACgSkAAAAAAAAhgQAAAAAAAoG9AAAAAAABYbUAAAAAAALBZQAAAAAAAIEJAAAAAAABAOUA=",
          "dtype": "f8"
         },
         "yaxis": "y4"
        }
       ],
       "layout": {
        "annotations": [
         {
          "font": {
           "size": 16
          },
          "showarrow": false,
          "text": "Climate Change",
          "x": 0.2375,
          "xanchor": "center",
          "xref": "paper",
          "y": 1,
          "yanchor": "bottom",
          "yref": "paper"
         },
         {
          "font": {
           "size": 16
          },
          "showarrow": false,
          "text": "Public Health",
          "x": 0.7625,
          "xanchor": "center",
          "xref": "paper",
          "y": 1,
          "yanchor": "bottom",
          "yref": "paper"
         },
         {
          "font": {
           "size": 16
          },
          "showarrow": false,
          "text": "Climate & Health Nexus (mean)",
          "x": 0.2375,
          "xanchor": "center",
          "xref": "paper",
          "y": 0.425,
          "yanchor": "bottom",
          "yref": "paper"
         },
         {
          "font": {
           "size": 16
          },
          "showarrow": false,
          "text": "Climate & Health Nexus (sum)",
          "x": 0.7625,
          "xanchor": "center",
          "xref": "paper",
          "y": 0.425,
          "yanchor": "bottom",
          "yref": "paper"
         }
        ],
        "font": {
         "size": 14
        },
        "height": 700,
        "hovermode": "x unified",
        "legend": {
         "title": {
          "text": "Party Family"
         }
        },
        "margin": {
         "b": 60,
         "l": 70,
         "r": 50,
         "t": 100
        },
        "template": {
         "data": {
          "pie": [
           {
            "automargin": true,
            "type": "pie"
           }
          ],
          "scatter": [
           {
            "line": {
             "width": 3
            },
            "marker": {
             "size": 9
            },
            "type": "scatter"
           }
          ],
          "scatter3d": [
           {
            "line": {
             "width": 3
            },
            "marker": {
             "size": 9
            },
            "type": "scatter3d"
           }
          ],
          "scattergeo": [
           {
            "line": {
             "width": 3
            },
            "marker": {
             "size": 9
            },
            "type": "scattergeo"
           }
          ],
          "scattergl": [
           {
            "line": {
             "width": 3
            },
            "marker": {
             "size": 9
            },
            "type": "scattergl"
           }
          ],
          "scatterpolar": [
           {
            "line": {
             "width": 3
            },
            "marker": {
             "size": 9
            },
            "type": "scatterpolar"
           }
          ],
          "scatterpolargl": [
           {
            "line": {
             "width": 3
            },
            "marker": {
             "size": 9
            },
            "type": "scatterpolargl"
           }
          ],
          "scatterternary": [
           {
            "line": {
             "width": 3
            },
            "marker": {
             "size": 9
            },
            "type": "scatterternary"
           }
          ],
          "table": [
           {
            "cells": {
             "height": 30
            },
            "header": {
             "height": 36
            },
            "type": "table"
           }
          ]
         },
         "layout": {
          "font": {
           "size": 18
          },
          "xaxis": {
           "title": {
            "standoff": 15
           }
          },
          "yaxis": {
           "title": {
            "standoff": 15
           }
          }
         }
        },
        "title": {
         "text": "Party Press Releases on Climate Change and Health by Party Family",
         "x": 0.05
        },
        "width": 1000,
        "xaxis": {
         "anchor": "y",
         "domain": [
          0,
          0.475
         ],
         "title": {
          "text": "Year"
         }
        },
        "xaxis2": {
         "anchor": "y2",
         "domain": [
          0.525,
          1
         ],
         "title": {
          "text": "Year"
         }
        },
        "xaxis3": {
         "anchor": "y3",
         "domain": [
          0,
          0.475
         ],
         "title": {
          "text": "Year"
         }
        },
        "xaxis4": {
         "anchor": "y4",
         "domain": [
          0.525,
          1
         ],
         "title": {
          "text": "Year"
         }
        },
        "yaxis": {
         "anchor": "x",
         "domain": [
          0.575,
          1
         ],
         "tickformat": ".0%",
         "title": {
          "text": "Press Releases"
         }
        },
        "yaxis2": {
         "anchor": "x2",
         "domain": [
          0.575,
          1
         ],
         "tickformat": ".0%"
        },
        "yaxis3": {
         "anchor": "x3",
         "domain": [
          0,
          0.425
         ],
         "tickformat": ".0%",
         "title": {
          "text": "Press Releases"
         }
        },
        "yaxis4": {
         "anchor": "x4",
         "domain": [
          0,
          0.425
         ]
        }
       }
      }
     },
     "metadata": {},
     "output_type": "display_data"
    }
   ],
   "source": [
    "# import libraries\n",
    "import pandas as pd\n",
    "import numpy as np\n",
    "from plotly.subplots import make_subplots\n",
    "import plotly.graph_objects as go\n",
    "import plotly.express as px\n",
    "\n",
    "\n",
    "# read in data \n",
    "df = pd.read_csv('../data/indicator_5_3_3.csv')\n",
    "\n",
    "# dictionary to map party names to respective party colors\n",
    "party_colors = {'Christian Democracy': '#1f77b4',\n",
    "                'Conservative': '#9D755D',\n",
    "                'Liberal': '#EECA3B',\n",
    "                'Green': '#54A24B',\n",
    "                'Radical Right-Wing': '#222A2A',\n",
    "                'Social Democracy': '#E45756',}\n",
    "\n",
    "\n",
    "# Define the mapping of data column -> subplot position\n",
    "col_to_position = {\n",
    "    'environment_climate_issue1_mean': (1, 1),  # Climate Change\n",
    "    'healthcare_issue1_mean': (1, 2),           # Public Health\n",
    "    'climate_health_mean': (2, 1),              # Climate and Health Nexus (mean)\n",
    "    'climate_health_sum': (2, 2)                # Climate and Health Nexus (sum)\n",
    "}\n",
    "\n",
    "\n",
    "def create_nexus_subplot(df, \n",
    "                         title = 'Party Press Releases on Climate Change and Health by Party Family',\n",
    "                         save_path=None,\n",
    "                         col_to_position = col_to_position,\n",
    "                         party_colors = party_colors):\n",
    "\n",
    "    # Titles should match the order of the subplot grid\n",
    "    fig = make_subplots(\n",
    "        rows=2, cols=2,\n",
    "        subplot_titles=(\n",
    "            'Climate Change',\n",
    "            'Public Health',\n",
    "            'Climate & Health Nexus (mean)', \n",
    "            'Climate & Health Nexus (sum)'\n",
    "        ),\n",
    "        horizontal_spacing=0.05,  # reduce horizontal gap between columns\n",
    "        vertical_spacing=0.15      # reduce vertical gap between rows\n",
    "    )\n",
    "\n",
    "    # Loop through the variables and plot each one in its correct subplot\n",
    "    for i, col in enumerate(col_to_position.keys()):\n",
    "        row, col_num = col_to_position[col]\n",
    "        for party_family in party_colors.keys():\n",
    "            subset = df[df['party_family'] == party_family].copy()\n",
    "\n",
    "            # smooth the line\n",
    "            subset[col] = subset[col].rolling(window=2, min_periods=1).mean()\n",
    "            subset[col] = subset[col].rolling(window=2, min_periods=1).mean()\n",
    "\n",
    "            fig.add_trace(go.Scatter(\n",
    "                x=subset['year'],\n",
    "                y=subset[col],\n",
    "                mode='lines+markers',\n",
    "                name=party_family,\n",
    "                line=dict(color=party_colors[party_family], width=5),\n",
    "                showlegend=True if i == 0 else False,\n",
    "            ), row=row, col=col_num)\n",
    "\n",
    "    # Update layout\n",
    "    fig.update_layout(\n",
    "        title=title,\n",
    "        xaxis_title='Year',\n",
    "        yaxis_title='Press Releases',\n",
    "        title_x=0.05,\n",
    "        legend_title='Party Family',\n",
    "        hovermode='x unified',\n",
    "        width=1000,\n",
    "        height=700,\n",
    "        template='presentation',\n",
    "        font=dict(size=14),\n",
    "        margin=dict(l=70, r=50, t=100, b=60)\n",
    "    )\n",
    "\n",
    "    # Format all y-axes as percentages\n",
    "    fig.update_yaxes(tickformat=\".0%\", row=1, col=1)\n",
    "    fig.update_yaxes(tickformat=\".0%\", row=1, col=2)\n",
    "    fig.update_yaxes(tickformat=\".0%\", row=2, col=1)\n",
    "\n",
    "    # Custom x-axis titles per subplot \n",
    "    fig.update_xaxes(title_text=\"Year\", row=2, col=1)\n",
    "    fig.update_xaxes(title_text=\"Year\", row=2, col=2)\n",
    "    fig.update_xaxes(title_text=\"Year\", row=1, col=2)\n",
    "\n",
    "    # add y-axis titles\n",
    "    fig.update_yaxes(title_text=\"Press Releases\", row=1, col=1)\n",
    "    #fig.update_yaxes(title_text=\"Press Releases\", row=1, col=2)\n",
    "    fig.update_yaxes(title_text=\"Press Releases\", row=2, col=1)\n",
    "    #fig.update_yaxes(title_text=\"Press Releases\", row=2, col=2)\n",
    "\n",
    "\n",
    "    # save figure if save_path is provided\n",
    "    if save_path:\n",
    "        fig.write_image(save_path, scale=2)\n",
    "    # show figure\n",
    "    fig.show()\n",
    "\n",
    "\n",
    "create_nexus_subplot(df, \n",
    "                     #title='',\n",
    "                     save_path='../appendix/indicator_5_3_3.png',\n",
    "                     col_to_position=col_to_position,\n",
    "                     party_colors=party_colors)\n"
   ]
  },
  {
   "cell_type": "markdown",
   "id": "17218282",
   "metadata": {},
   "source": [
    "# Create table for appendix"
   ]
  },
  {
   "cell_type": "code",
   "execution_count": 16,
   "id": "e502d5ee",
   "metadata": {},
   "outputs": [
    {
     "name": "stdout",
     "output_type": "stream",
     "text": [
      "              precision    recall  f1-score   support\n",
      "\n",
      "           0       0.96      0.94      0.95       308\n",
      "           1       0.93      0.91      0.92        69\n",
      "           2       0.97      0.97      0.97       195\n",
      "           3       0.96      0.97      0.97        79\n",
      "           4       0.90      0.95      0.93       132\n",
      "           5       0.97      0.95      0.96       157\n",
      "           6       0.97      0.94      0.95       168\n",
      "           7       0.84      0.97      0.90        33\n",
      "           8       0.95      0.94      0.95        88\n",
      "           9       0.94      0.97      0.96        69\n",
      "          10       0.95      0.95      0.95        79\n",
      "          11       0.90      0.87      0.88        53\n",
      "          12       0.94      0.96      0.95        48\n",
      "          13       0.93      0.81      0.87        16\n",
      "          14       0.84      0.97      0.90        80\n",
      "          15       0.71      1.00      0.83         5\n",
      "          16       0.92      0.69      0.79        16\n",
      "          17       0.92      0.94      0.93       200\n",
      "          18       0.85      0.72      0.78        72\n",
      "          20       0.94      0.94      0.94        16\n",
      "\n",
      "    accuracy                           0.94      1883\n",
      "   macro avg       0.92      0.92      0.91      1883\n",
      "weighted avg       0.94      0.94      0.94      1883\n",
      "\n"
     ]
    },
    {
     "data": {
      "application/vnd.plotly.v1+json": {
       "config": {
        "plotlyServerURL": "https://plot.ly"
       },
       "data": [
        {
         "coloraxis": "coloraxis",
         "hovertemplate": "Predicted Label: %{x}<br>True Label: %{y}<br>Count: %{z}<extra></extra>",
         "name": "0",
         "texttemplate": "%{z}",
         "type": "heatmap",
         "xaxis": "x",
         "yaxis": "y",
         "z": {
          "bdata": "IQEAAAEAAAAGAAAAAAACAAAAAAAAAAAAAAAAAAIAAAABAAEABgAAAAAAPwAAAAAAAQABAAAAAAAAAAAAAAAAAAAAAAAAAAAAAAADAAEAAAABAAAAvgAAAAEAAAAAAAAAAAAAAAAAAwAAAAAAAAAAAAAAAAAAAAAAAQABAAAATQAAAAAAAAAAAAAAAAAAAAAAAAAAAAAAAAAAAAAAAAAAAAEAAAABAAAAfgABAAAAAAAAAAAAAAABAAEAAQAAAAAAAAAAAAAAAAABAAAAAQAAAAMAlQAAAAAAAAABAAAAAQAAAAAAAAAAAAAAAQAAAAAAAQAAAAAAAgAAAAAAngADAAAAAAAAAAAAAAAAAAAAAQAAAAIAAAABAAEAAAAAAAAAAAAAAAAAIAAAAAAAAAAAAAAAAAAAAAAAAAAAAAAAAAAAAAAAAAAAAAEAAQAAAAAAUwAAAAEAAAAAAAAAAAAAAAAAAgAAAAAAAAAAAAAAAAAAAAAAAgAAAAAAQwAAAAAAAAAAAAAAAAAAAAAAAAAAAAAAAgAAAAAAAAAAAAEAAAAAAAAASwAAAAAAAAAAAAAAAAAAAAEAAAAAAAEAAgAAAAEAAQAAAAAAAAAAAAEALgABAAAAAAAAAAAAAAAAAAAAAAAAAAAAAAAAAAAAAAAAAAAAAAAAAAAALgAAAAEAAAAAAAEAAAAAAAEAAAAAAAAAAAAAAAAAAQAAAAAAAAAAAAEADQAAAAAAAAAAAAAAAAABAAAAAAAAAAAAAAAAAAAAAAAAAAAAAAAAAAAATgAAAAAAAQAAAAAAAAAAAAAAAAAAAAAAAAAAAAAAAAAAAAAAAAAAAAAABQAAAAAAAAAAAAAAAAAAAAEAAAAAAAAAAAAAAAAAAAAAAAAAAAAAAAEACwADAAAAAAABAAEAAAAAAAAAAAAAAAAABAAAAAEAAAAAAAAAAwAAAAAAvQABAAAAAwAAAAAAAAABAAAAAQAAAAAAAwABAAAAAAAAAAkAAAAAAAIANAAAAAAAAAAAAAAAAAAAAAEAAAAAAAAAAAAAAAAAAAAAAAAAAAAAAAAADwA=",
          "dtype": "i2",
          "shape": "20, 20"
         }
        }
       ],
       "layout": {
        "coloraxis": {
         "colorbar": {
          "title": {
           "text": "Count"
          }
         },
         "colorscale": [
          [
           0,
           "rgb(247,251,255)"
          ],
          [
           0.125,
           "rgb(222,235,247)"
          ],
          [
           0.25,
           "rgb(198,219,239)"
          ],
          [
           0.375,
           "rgb(158,202,225)"
          ],
          [
           0.5,
           "rgb(107,174,214)"
          ],
          [
           0.625,
           "rgb(66,146,198)"
          ],
          [
           0.75,
           "rgb(33,113,181)"
          ],
          [
           0.875,
           "rgb(8,81,156)"
          ],
          [
           1,
           "rgb(8,48,107)"
          ]
         ]
        },
        "height": 600,
        "template": {
         "data": {
          "bar": [
           {
            "error_x": {
             "color": "#2a3f5f"
            },
            "error_y": {
             "color": "#2a3f5f"
            },
            "marker": {
             "line": {
              "color": "#E5ECF6",
              "width": 0.5
             },
             "pattern": {
              "fillmode": "overlay",
              "size": 10,
              "solidity": 0.2
             }
            },
            "type": "bar"
           }
          ],
          "barpolar": [
           {
            "marker": {
             "line": {
              "color": "#E5ECF6",
              "width": 0.5
             },
             "pattern": {
              "fillmode": "overlay",
              "size": 10,
              "solidity": 0.2
             }
            },
            "type": "barpolar"
           }
          ],
          "carpet": [
           {
            "aaxis": {
             "endlinecolor": "#2a3f5f",
             "gridcolor": "white",
             "linecolor": "white",
             "minorgridcolor": "white",
             "startlinecolor": "#2a3f5f"
            },
            "baxis": {
             "endlinecolor": "#2a3f5f",
             "gridcolor": "white",
             "linecolor": "white",
             "minorgridcolor": "white",
             "startlinecolor": "#2a3f5f"
            },
            "type": "carpet"
           }
          ],
          "choropleth": [
           {
            "colorbar": {
             "outlinewidth": 0,
             "ticks": ""
            },
            "type": "choropleth"
           }
          ],
          "contour": [
           {
            "colorbar": {
             "outlinewidth": 0,
             "ticks": ""
            },
            "colorscale": [
             [
              0,
              "#0d0887"
             ],
             [
              0.1111111111111111,
              "#46039f"
             ],
             [
              0.2222222222222222,
              "#7201a8"
             ],
             [
              0.3333333333333333,
              "#9c179e"
             ],
             [
              0.4444444444444444,
              "#bd3786"
             ],
             [
              0.5555555555555556,
              "#d8576b"
             ],
             [
              0.6666666666666666,
              "#ed7953"
             ],
             [
              0.7777777777777778,
              "#fb9f3a"
             ],
             [
              0.8888888888888888,
              "#fdca26"
             ],
             [
              1,
              "#f0f921"
             ]
            ],
            "type": "contour"
           }
          ],
          "contourcarpet": [
           {
            "colorbar": {
             "outlinewidth": 0,
             "ticks": ""
            },
            "type": "contourcarpet"
           }
          ],
          "heatmap": [
           {
            "colorbar": {
             "outlinewidth": 0,
             "ticks": ""
            },
            "colorscale": [
             [
              0,
              "#0d0887"
             ],
             [
              0.1111111111111111,
              "#46039f"
             ],
             [
              0.2222222222222222,
              "#7201a8"
             ],
             [
              0.3333333333333333,
              "#9c179e"
             ],
             [
              0.4444444444444444,
              "#bd3786"
             ],
             [
              0.5555555555555556,
              "#d8576b"
             ],
             [
              0.6666666666666666,
              "#ed7953"
             ],
             [
              0.7777777777777778,
              "#fb9f3a"
             ],
             [
              0.8888888888888888,
              "#fdca26"
             ],
             [
              1,
              "#f0f921"
             ]
            ],
            "type": "heatmap"
           }
          ],
          "histogram": [
           {
            "marker": {
             "pattern": {
              "fillmode": "overlay",
              "size": 10,
              "solidity": 0.2
             }
            },
            "type": "histogram"
           }
          ],
          "histogram2d": [
           {
            "colorbar": {
             "outlinewidth": 0,
             "ticks": ""
            },
            "colorscale": [
             [
              0,
              "#0d0887"
             ],
             [
              0.1111111111111111,
              "#46039f"
             ],
             [
              0.2222222222222222,
              "#7201a8"
             ],
             [
              0.3333333333333333,
              "#9c179e"
             ],
             [
              0.4444444444444444,
              "#bd3786"
             ],
             [
              0.5555555555555556,
              "#d8576b"
             ],
             [
              0.6666666666666666,
              "#ed7953"
             ],
             [
              0.7777777777777778,
              "#fb9f3a"
             ],
             [
              0.8888888888888888,
              "#fdca26"
             ],
             [
              1,
              "#f0f921"
             ]
            ],
            "type": "histogram2d"
           }
          ],
          "histogram2dcontour": [
           {
            "colorbar": {
             "outlinewidth": 0,
             "ticks": ""
            },
            "colorscale": [
             [
              0,
              "#0d0887"
             ],
             [
              0.1111111111111111,
              "#46039f"
             ],
             [
              0.2222222222222222,
              "#7201a8"
             ],
             [
              0.3333333333333333,
              "#9c179e"
             ],
             [
              0.4444444444444444,
              "#bd3786"
             ],
             [
              0.5555555555555556,
              "#d8576b"
             ],
             [
              0.6666666666666666,
              "#ed7953"
             ],
             [
              0.7777777777777778,
              "#fb9f3a"
             ],
             [
              0.8888888888888888,
              "#fdca26"
             ],
             [
              1,
              "#f0f921"
             ]
            ],
            "type": "histogram2dcontour"
           }
          ],
          "mesh3d": [
           {
            "colorbar": {
             "outlinewidth": 0,
             "ticks": ""
            },
            "type": "mesh3d"
           }
          ],
          "parcoords": [
           {
            "line": {
             "colorbar": {
              "outlinewidth": 0,
              "ticks": ""
             }
            },
            "type": "parcoords"
           }
          ],
          "pie": [
           {
            "automargin": true,
            "type": "pie"
           }
          ],
          "scatter": [
           {
            "fillpattern": {
             "fillmode": "overlay",
             "size": 10,
             "solidity": 0.2
            },
            "type": "scatter"
           }
          ],
          "scatter3d": [
           {
            "line": {
             "colorbar": {
              "outlinewidth": 0,
              "ticks": ""
             }
            },
            "marker": {
             "colorbar": {
              "outlinewidth": 0,
              "ticks": ""
             }
            },
            "type": "scatter3d"
           }
          ],
          "scattercarpet": [
           {
            "marker": {
             "colorbar": {
              "outlinewidth": 0,
              "ticks": ""
             }
            },
            "type": "scattercarpet"
           }
          ],
          "scattergeo": [
           {
            "marker": {
             "colorbar": {
              "outlinewidth": 0,
              "ticks": ""
             }
            },
            "type": "scattergeo"
           }
          ],
          "scattergl": [
           {
            "marker": {
             "colorbar": {
              "outlinewidth": 0,
              "ticks": ""
             }
            },
            "type": "scattergl"
           }
          ],
          "scattermap": [
           {
            "marker": {
             "colorbar": {
              "outlinewidth": 0,
              "ticks": ""
             }
            },
            "type": "scattermap"
           }
          ],
          "scattermapbox": [
           {
            "marker": {
             "colorbar": {
              "outlinewidth": 0,
              "ticks": ""
             }
            },
            "type": "scattermapbox"
           }
          ],
          "scatterpolar": [
           {
            "marker": {
             "colorbar": {
              "outlinewidth": 0,
              "ticks": ""
             }
            },
            "type": "scatterpolar"
           }
          ],
          "scatterpolargl": [
           {
            "marker": {
             "colorbar": {
              "outlinewidth": 0,
              "ticks": ""
             }
            },
            "type": "scatterpolargl"
           }
          ],
          "scatterternary": [
           {
            "marker": {
             "colorbar": {
              "outlinewidth": 0,
              "ticks": ""
             }
            },
            "type": "scatterternary"
           }
          ],
          "surface": [
           {
            "colorbar": {
             "outlinewidth": 0,
             "ticks": ""
            },
            "colorscale": [
             [
              0,
              "#0d0887"
             ],
             [
              0.1111111111111111,
              "#46039f"
             ],
             [
              0.2222222222222222,
              "#7201a8"
             ],
             [
              0.3333333333333333,
              "#9c179e"
             ],
             [
              0.4444444444444444,
              "#bd3786"
             ],
             [
              0.5555555555555556,
              "#d8576b"
             ],
             [
              0.6666666666666666,
              "#ed7953"
             ],
             [
              0.7777777777777778,
              "#fb9f3a"
             ],
             [
              0.8888888888888888,
              "#fdca26"
             ],
             [
              1,
              "#f0f921"
             ]
            ],
            "type": "surface"
           }
          ],
          "table": [
           {
            "cells": {
             "fill": {
              "color": "#EBF0F8"
             },
             "line": {
              "color": "white"
             }
            },
            "header": {
             "fill": {
              "color": "#C8D4E3"
             },
             "line": {
              "color": "white"
             }
            },
            "type": "table"
           }
          ]
         },
         "layout": {
          "annotationdefaults": {
           "arrowcolor": "#2a3f5f",
           "arrowhead": 0,
           "arrowwidth": 1
          },
          "autotypenumbers": "strict",
          "coloraxis": {
           "colorbar": {
            "outlinewidth": 0,
            "ticks": ""
           }
          },
          "colorscale": {
           "diverging": [
            [
             0,
             "#8e0152"
            ],
            [
             0.1,
             "#c51b7d"
            ],
            [
             0.2,
             "#de77ae"
            ],
            [
             0.3,
             "#f1b6da"
            ],
            [
             0.4,
             "#fde0ef"
            ],
            [
             0.5,
             "#f7f7f7"
            ],
            [
             0.6,
             "#e6f5d0"
            ],
            [
             0.7,
             "#b8e186"
            ],
            [
             0.8,
             "#7fbc41"
            ],
            [
             0.9,
             "#4d9221"
            ],
            [
             1,
             "#276419"
            ]
           ],
           "sequential": [
            [
             0,
             "#0d0887"
            ],
            [
             0.1111111111111111,
             "#46039f"
            ],
            [
             0.2222222222222222,
             "#7201a8"
            ],
            [
             0.3333333333333333,
             "#9c179e"
            ],
            [
             0.4444444444444444,
             "#bd3786"
            ],
            [
             0.5555555555555556,
             "#d8576b"
            ],
            [
             0.6666666666666666,
             "#ed7953"
            ],
            [
             0.7777777777777778,
             "#fb9f3a"
            ],
            [
             0.8888888888888888,
             "#fdca26"
            ],
            [
             1,
             "#f0f921"
            ]
           ],
           "sequentialminus": [
            [
             0,
             "#0d0887"
            ],
            [
             0.1111111111111111,
             "#46039f"
            ],
            [
             0.2222222222222222,
             "#7201a8"
            ],
            [
             0.3333333333333333,
             "#9c179e"
            ],
            [
             0.4444444444444444,
             "#bd3786"
            ],
            [
             0.5555555555555556,
             "#d8576b"
            ],
            [
             0.6666666666666666,
             "#ed7953"
            ],
            [
             0.7777777777777778,
             "#fb9f3a"
            ],
            [
             0.8888888888888888,
             "#fdca26"
            ],
            [
             1,
             "#f0f921"
            ]
           ]
          },
          "colorway": [
           "#636efa",
           "#EF553B",
           "#00cc96",
           "#ab63fa",
           "#FFA15A",
           "#19d3f3",
           "#FF6692",
           "#B6E880",
           "#FF97FF",
           "#FECB52"
          ],
          "font": {
           "color": "#2a3f5f"
          },
          "geo": {
           "bgcolor": "white",
           "lakecolor": "white",
           "landcolor": "#E5ECF6",
           "showlakes": true,
           "showland": true,
           "subunitcolor": "white"
          },
          "hoverlabel": {
           "align": "left"
          },
          "hovermode": "closest",
          "mapbox": {
           "style": "light"
          },
          "paper_bgcolor": "white",
          "plot_bgcolor": "#E5ECF6",
          "polar": {
           "angularaxis": {
            "gridcolor": "white",
            "linecolor": "white",
            "ticks": ""
           },
           "bgcolor": "#E5ECF6",
           "radialaxis": {
            "gridcolor": "white",
            "linecolor": "white",
            "ticks": ""
           }
          },
          "scene": {
           "xaxis": {
            "backgroundcolor": "#E5ECF6",
            "gridcolor": "white",
            "gridwidth": 2,
            "linecolor": "white",
            "showbackground": true,
            "ticks": "",
            "zerolinecolor": "white"
           },
           "yaxis": {
            "backgroundcolor": "#E5ECF6",
            "gridcolor": "white",
            "gridwidth": 2,
            "linecolor": "white",
            "showbackground": true,
            "ticks": "",
            "zerolinecolor": "white"
           },
           "zaxis": {
            "backgroundcolor": "#E5ECF6",
            "gridcolor": "white",
            "gridwidth": 2,
            "linecolor": "white",
            "showbackground": true,
            "ticks": "",
            "zerolinecolor": "white"
           }
          },
          "shapedefaults": {
           "line": {
            "color": "#2a3f5f"
           }
          },
          "ternary": {
           "aaxis": {
            "gridcolor": "white",
            "linecolor": "white",
            "ticks": ""
           },
           "baxis": {
            "gridcolor": "white",
            "linecolor": "white",
            "ticks": ""
           },
           "bgcolor": "#E5ECF6",
           "caxis": {
            "gridcolor": "white",
            "linecolor": "white",
            "ticks": ""
           }
          },
          "title": {
           "x": 0.05
          },
          "xaxis": {
           "automargin": true,
           "gridcolor": "white",
           "linecolor": "white",
           "ticks": "",
           "title": {
            "standoff": 15
           },
           "zerolinecolor": "white",
           "zerolinewidth": 2
          },
          "yaxis": {
           "automargin": true,
           "gridcolor": "white",
           "linecolor": "white",
           "ticks": "",
           "title": {
            "standoff": 15
           },
           "zerolinecolor": "white",
           "zerolinewidth": 2
          }
         }
        },
        "title": {
         "text": "Confusion Matrix"
        },
        "width": 600,
        "xaxis": {
         "anchor": "y",
         "domain": [
          0,
          1
         ],
         "title": {
          "text": "Predicted Label"
         }
        },
        "yaxis": {
         "anchor": "x",
         "autorange": "reversed",
         "domain": [
          0,
          1
         ],
         "title": {
          "text": "True Label"
         }
        }
       }
      }
     },
     "metadata": {},
     "output_type": "display_data"
    }
   ],
   "source": [
    "# import libraries for classification report\n",
    "from sklearn.metrics import classification_report\n",
    "from sklearn.metrics import confusion_matrix, ConfusionMatrixDisplay\n",
    "\n",
    "# read in validation data \n",
    "test = pd.read_parquet('../data/llm_validation_data.parquet')\n",
    "\n",
    "# print classification report\n",
    "print(classification_report(test['labels'].values, test.predicted_labels_integer.values))\n",
    "\n",
    "# create confusion matrix\n",
    "cm = confusion_matrix(test['labels'].values, test.predicted_labels_integer.values)\n",
    "\n",
    "fig = px.imshow(cm,\n",
    "                text_auto=True, \n",
    "                aspect=\"auto\",\n",
    "                color_continuous_scale='Blues',\n",
    "                labels=dict(x=\"Predicted Label\", y=\"True Label\", color=\"Count\"),\n",
    "                title=\"Confusion Matrix\",\n",
    ")\n",
    "fig.update_layout(\n",
    "    height=600,\n",
    "    width=600,\n",
    ")\n",
    "fig.show()"
   ]
  }
 ],
 "metadata": {
  "kernelspec": {
   "display_name": "test_env",
   "language": "python",
   "name": "python3"
  },
  "language_info": {
   "codemirror_mode": {
    "name": "ipython",
    "version": 3
   },
   "file_extension": ".py",
   "mimetype": "text/x-python",
   "name": "python",
   "nbconvert_exporter": "python",
   "pygments_lexer": "ipython3",
   "version": "3.13.2"
  }
 },
 "nbformat": 4,
 "nbformat_minor": 5
}
